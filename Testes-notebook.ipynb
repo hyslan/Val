{
 "cells": [
  {
   "cell_type": "code",
   "execution_count": 120,
   "metadata": {},
   "outputs": [
    {
     "name": "stdout",
     "output_type": "stream",
     "text": [
      "Consultando Estoque de Materiais\n",
      "Planilha de estoque gerada com sucesso.\n",
      "Encerrando Sessão.\n",
      "Fechando Arquivo Excel.\n",
      "\n"
     ]
    }
   ],
   "source": [
    "from wms.consulta_estoque import estoque\n",
    "import sap\n",
    "\n",
    "sessions = sap.listar_sessoes()\n",
    "session = sap.criar_sessao(sessions)\n",
    "materiais = estoque(session, sessions, \"4600041302\")"
   ]
  },
  {
   "cell_type": "code",
   "execution_count": 28,
   "metadata": {},
   "outputs": [
    {
     "name": "stdout",
     "output_type": "stream",
     "text": [
      "ok\n"
     ]
    }
   ],
   "source": [
    "lacre = materiais[materiais['Material'] == '50000108']\n",
    "hidro = materiais[materiais['Material'] == '50000530']\n",
    "hidro = hidro.query('`Utilização livre` > 1')\n",
    "if not lacre.empty and not lacre.empty:\n",
    "    print(\"ok\")"
   ]
  },
  {
   "cell_type": "code",
   "execution_count": 46,
   "metadata": {},
   "outputs": [
    {
     "data": {
      "text/html": [
       "<div>\n",
       "<style scoped>\n",
       "    .dataframe tbody tr th:only-of-type {\n",
       "        vertical-align: middle;\n",
       "    }\n",
       "\n",
       "    .dataframe tbody tr th {\n",
       "        vertical-align: top;\n",
       "    }\n",
       "\n",
       "    .dataframe thead th {\n",
       "        text-align: right;\n",
       "    }\n",
       "</style>\n",
       "<table border=\"1\" class=\"dataframe\">\n",
       "  <thead>\n",
       "    <tr style=\"text-align: right;\">\n",
       "      <th></th>\n",
       "      <th>Etapa</th>\n",
       "      <th>Material</th>\n",
       "      <th>Descrição</th>\n",
       "      <th>Quantidade</th>\n",
       "    </tr>\n",
       "  </thead>\n",
       "  <tbody>\n",
       "    <tr>\n",
       "      <th>0</th>\n",
       "      <td>0010</td>\n",
       "      <td>50000530</td>\n",
       "      <td>HIDROM VOL DN20 PRE.EQ QN 1.5 M3/H - ASI</td>\n",
       "      <td>1.0</td>\n",
       "    </tr>\n",
       "    <tr>\n",
       "      <th>1</th>\n",
       "      <td>0010</td>\n",
       "      <td>50001070</td>\n",
       "      <td>LACRE ANTIFRAUDE P HIDRÔMETRO COMPR 01 M</td>\n",
       "      <td>1.0</td>\n",
       "    </tr>\n",
       "  </tbody>\n",
       "</table>\n",
       "</div>"
      ],
      "text/plain": [
       "  Etapa  Material                                 Descrição  Quantidade\n",
       "0  0010  50000530  HIDROM VOL DN20 PRE.EQ QN 1.5 M3/H - ASI         1.0\n",
       "1  0010  50001070  LACRE ANTIFRAUDE P HIDRÔMETRO COMPR 01 M         1.0"
      ]
     },
     "execution_count": 46,
     "metadata": {},
     "output_type": "execute_result"
    }
   ],
   "source": [
    "import pandas as pd\n",
    "num_material_linhas = tb_materiais.RowCount\n",
    "n_material = 0\n",
    "ultima_linha_material = num_material_linhas\n",
    "lista_data = []\n",
    "for n_material in range(num_material_linhas):\n",
    "    # Pega valor da célula 0\n",
    "    sap_material = tb_materiais.GetCellValue(\n",
    "        n_material, \"MATERIAL\")\n",
    "    sap_etapa_material = tb_materiais.GetCellValue(\n",
    "        n_material, \"ETAPA\")\n",
    "    sap_desc_material = tb_materiais.GetCellValue(\n",
    "        n_material, \"DESC_MAT\")\n",
    "    sap_qtde_material = tb_materiais.GetCellValue(\n",
    "        n_material, \"QUANT\")\n",
    "    data = {'Etapa': sap_etapa_material,\n",
    "            'Material': sap_material,\n",
    "            'Descrição': sap_desc_material,\n",
    "            'Quantidade': sap_qtde_material}\n",
    "    lista_data.append(data)\n",
    "df = pd.DataFrame(lista_data)\n",
    "df['Quantidade'] = df['Quantidade'].replace(',', '.', regex=True).astype(float)\n",
    "df"
   ]
  },
  {
   "cell_type": "code",
   "execution_count": 56,
   "metadata": {},
   "outputs": [
    {
     "name": "stdout",
     "output_type": "stream",
     "text": [
      "foi\n",
      "O material 50000530 está presente.\n"
     ]
    }
   ],
   "source": [
    "if df['Material'].isin(materiais['Material']).any():\n",
    "    print(\"foi\")\n",
    "\n",
    "# Alternativa 2\n",
    "for material in df['Material']:\n",
    "    if material in materiais['Material'].values:\n",
    "        print(f\"O material {material} está presente.\")\n",
    "        \n"
   ]
  },
  {
   "cell_type": "code",
   "execution_count": 104,
   "metadata": {},
   "outputs": [
    {
     "name": "stdout",
     "output_type": "stream",
     "text": [
      "50000263\n"
     ]
    }
   ],
   "source": [
    "# Usar o Rodapé para resolver os materiais faltantes.\n",
    "import re\n",
    "import sap\n",
    "connection = sap.listar_conexoes()\n",
    "session = connection.Children(1)\n",
    "rodape = session.findById(\"wnd[0]/sbar\").Text # Rodapé\n",
    "rodape = rodape.lower()\n",
    "padrao = r\"material (\\d+)\"\n",
    "correspondencias = re.search(padrao, rodape)\n",
    "if correspondencias:\n",
    "    # Group 1 retira string 'material'\n",
    "    codigo_material = correspondencias.group(1)\n",
    "    print(codigo_material)"
   ]
  },
  {
   "cell_type": "code",
   "execution_count": 9,
   "metadata": {},
   "outputs": [],
   "source": [
    "# Monitor\n",
    "from datetime import datetime, timedelta\n",
    "import sap\n",
    "sessoes = sap.listar_sessoes()\n",
    "def monitor204():\n",
    "    data = datetime.today().date().strftime('%d/%m/%Y')\n",
    "    data = str(data)\n",
    "    data = data.replace(\"/\", \".\")\n",
    "    hora_inicio = datetime.now() - timedelta(hours=1)\n",
    "    hora_inicio = hora_inicio.time()\n",
    "    hora_inicio = hora_inicio.strftime('%H:%M:%S')\n",
    "    hora_fim = datetime.now().strftime('%H:%M:%S')\n",
    "    \n",
    "    session_monitor = sap.criar_sessao(sessoes)\n",
    "    session_monitor.StartTransaction(\"ZSBMM204\")\n",
    "    session_monitor.findById(\"wnd[0]/usr/ctxtS_DATA-LOW\").Text = data\n",
    "    session_monitor.findById(\"wnd[0]/usr/ctxtS_DATA-HIGH\").Text = data\n",
    "    session_monitor.findById(\"wnd[0]/usr/ctxtS_HORA-LOW\").Text = hora_inicio\n",
    "    session_monitor.findById(\"wnd[0]/usr/ctxtS_HORA-HIGH\").Text = hora_fim\n",
    "    session_monitor.findById(\"wnd[0]/usr/txtS_ORDEM-LOW\").Type"
   ]
  },
  {
   "cell_type": "code",
   "execution_count": 10,
   "metadata": {},
   "outputs": [],
   "source": [
    "# fazer interação ZSBMM204?\n",
    "import sap\n",
    "connection = sap.listar_conexoes()\n",
    "session = connection.Children(1)\n",
    "rodape = session.findById(\"wnd[0]/sbar\").Text # Rodapé\n",
    "if \"ZSBMM204\" in rodape:\n",
    "    monitor204()"
   ]
  },
  {
   "cell_type": "code",
   "execution_count": 15,
   "metadata": {},
   "outputs": [],
   "source": [
    "import sap\n",
    "connection = sap.listar_conexoes()\n",
    "session = connection.Children(3)\n"
   ]
  },
  {
   "cell_type": "code",
   "execution_count": 16,
   "metadata": {},
   "outputs": [],
   "source": [
    "import pywintypes\n",
    "try:\n",
    "   monitor = session.findById(\"wnd[0]/usr/cntlCO_GRID/shellcont/shell\")\n",
    "   n_linhas = monitor.RowCount\n",
    "   lista_monitor = []\n",
    "   for i in range(n_linhas):\n",
    "      mensagem = monitor.GetCellValue(i, \"MENSAGEM\")\n",
    "      lista_monitor.append(mensagem)\n",
    "except pywintypes.com_error:\n",
    "    print(\"Erro.\")"
   ]
  },
  {
   "cell_type": "code",
   "execution_count": 22,
   "metadata": {},
   "outputs": [
    {
     "name": "stdout",
     "output_type": "stream",
     "text": [
      "50001070\n"
     ]
    }
   ],
   "source": [
    "# Material bloqueado no monitor 204\n",
    "import re\n",
    "lista_monitor = str(lista_monitor)\n",
    "lista_monitor = lista_monitor.lower()\n",
    "if \"bloqueados\" in lista_monitor:\n",
    "    padrao = r\"material (\\d+)\"\n",
    "    correspondencias = re.search(padrao, lista_monitor)\n",
    "    if correspondencias:\n",
    "        # Group 1 retira string 'material'\n",
    "        codigo_material = correspondencias.group(1)\n",
    "        print(codigo_material)"
   ]
  },
  {
   "cell_type": "code",
   "execution_count": 25,
   "metadata": {},
   "outputs": [
    {
     "name": "stdout",
     "output_type": "stream",
     "text": [
      "True\n"
     ]
    }
   ],
   "source": [
    "import sap\n",
    "connection = sap.listar_conexoes()\n",
    "session = connection.Children(1)\n",
    "rodape = session.findById(\"wnd[0]/sbar\").Text # Rodapé\n",
    "salvo = \"Ajustes de valoração salvos com sucesso.\"\n",
    "if salvo == rodape:\n",
    "    print(True)"
   ]
  }
 ],
 "metadata": {
  "kernelspec": {
   "display_name": "Python 3",
   "language": "python",
   "name": "python3"
  },
  "language_info": {
   "codemirror_mode": {
    "name": "ipython",
    "version": 3
   },
   "file_extension": ".py",
   "mimetype": "text/x-python",
   "name": "python",
   "nbconvert_exporter": "python",
   "pygments_lexer": "ipython3",
   "version": "3.11.4"
  }
 },
 "nbformat": 4,
 "nbformat_minor": 2
}

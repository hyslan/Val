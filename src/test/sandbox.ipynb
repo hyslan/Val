{
 "cells": [
  {
   "cell_type": "code",
   "id": "initial_id",
   "metadata": {
    "collapsed": true,
    "ExecuteTime": {
     "end_time": "2024-04-11T18:49:48.965390Z",
     "start_time": "2024-04-11T18:49:48.236738Z"
    }
   },
   "source": [
    "import pandas as pd\n",
    "import sqlalchemy as sa\n",
    "\n",
    "connection_url = sa.URL.create(\n",
    "    \"mssql+pyodbc\",\n",
    "    username=\"BD_ML_SERVICE\",\n",
    "    password=\"S@besp&2024*\",\n",
    "    host=\"10.66.9.46\",\n",
    "    database=\"BD_ML\",\n",
    "    query={\"driver\": \"ODBC Driver 17 for SQL Server\"},\n",
    ")\n",
    "connection_url = connection_url\n",
    "engine = sa.create_engine(connection_url)\n",
    "cnn = engine.connect()\n"
   ],
   "outputs": [],
   "execution_count": 33
  },
  {
   "metadata": {
    "ExecuteTime": {
     "end_time": "2024-04-11T19:36:32.468805Z",
     "start_time": "2024-04-11T19:36:28.660420Z"
    }
   },
   "cell_type": "code",
   "source": [
    "sql_command = (\"SELECT Ordem, COD_MUNICIPIO FROM [LESTE_AD\\\\hcruz_novasp].[v_Hyslan_Valoracao] \"\n",
    "               f\"WHERE TSE_OPERACAO_ZSCP = '284000' AND \"\n",
    "               f\"[Feito?] IS NUll AND Contrato = '4600042975'\")\n",
    "\n",
    "df = pd.read_sql(sql_command, cnn)\n",
    "df\n"
   ],
   "id": "a06149c7401b26",
   "outputs": [
    {
     "data": {
      "text/plain": [
       "         Ordem COD_MUNICIPIO\n",
       "0   2409989893           546\n",
       "1   2410399659           100\n",
       "2   2410446473           100\n",
       "3   2409584330           100\n",
       "4   2409588716           100\n",
       "5   2409631508           100\n",
       "6   2409817236           100\n",
       "7   2409936540           100\n",
       "8   2409936863           100\n",
       "9   2409939299           100\n",
       "10  2409939699           100\n",
       "11  2409941263           100"
      ],
      "text/html": [
       "<div>\n",
       "<style scoped>\n",
       "    .dataframe tbody tr th:only-of-type {\n",
       "        vertical-align: middle;\n",
       "    }\n",
       "\n",
       "    .dataframe tbody tr th {\n",
       "        vertical-align: top;\n",
       "    }\n",
       "\n",
       "    .dataframe thead th {\n",
       "        text-align: right;\n",
       "    }\n",
       "</style>\n",
       "<table border=\"1\" class=\"dataframe\">\n",
       "  <thead>\n",
       "    <tr style=\"text-align: right;\">\n",
       "      <th></th>\n",
       "      <th>Ordem</th>\n",
       "      <th>COD_MUNICIPIO</th>\n",
       "    </tr>\n",
       "  </thead>\n",
       "  <tbody>\n",
       "    <tr>\n",
       "      <th>0</th>\n",
       "      <td>2409989893</td>\n",
       "      <td>546</td>\n",
       "    </tr>\n",
       "    <tr>\n",
       "      <th>1</th>\n",
       "      <td>2410399659</td>\n",
       "      <td>100</td>\n",
       "    </tr>\n",
       "    <tr>\n",
       "      <th>2</th>\n",
       "      <td>2410446473</td>\n",
       "      <td>100</td>\n",
       "    </tr>\n",
       "    <tr>\n",
       "      <th>3</th>\n",
       "      <td>2409584330</td>\n",
       "      <td>100</td>\n",
       "    </tr>\n",
       "    <tr>\n",
       "      <th>4</th>\n",
       "      <td>2409588716</td>\n",
       "      <td>100</td>\n",
       "    </tr>\n",
       "    <tr>\n",
       "      <th>5</th>\n",
       "      <td>2409631508</td>\n",
       "      <td>100</td>\n",
       "    </tr>\n",
       "    <tr>\n",
       "      <th>6</th>\n",
       "      <td>2409817236</td>\n",
       "      <td>100</td>\n",
       "    </tr>\n",
       "    <tr>\n",
       "      <th>7</th>\n",
       "      <td>2409936540</td>\n",
       "      <td>100</td>\n",
       "    </tr>\n",
       "    <tr>\n",
       "      <th>8</th>\n",
       "      <td>2409936863</td>\n",
       "      <td>100</td>\n",
       "    </tr>\n",
       "    <tr>\n",
       "      <th>9</th>\n",
       "      <td>2409939299</td>\n",
       "      <td>100</td>\n",
       "    </tr>\n",
       "    <tr>\n",
       "      <th>10</th>\n",
       "      <td>2409939699</td>\n",
       "      <td>100</td>\n",
       "    </tr>\n",
       "    <tr>\n",
       "      <th>11</th>\n",
       "      <td>2409941263</td>\n",
       "      <td>100</td>\n",
       "    </tr>\n",
       "  </tbody>\n",
       "</table>\n",
       "</div>"
      ]
     },
     "execution_count": 39,
     "metadata": {},
     "output_type": "execute_result"
    }
   ],
   "execution_count": 39
  },
  {
   "metadata": {
    "ExecuteTime": {
     "end_time": "2024-04-11T19:42:29.966249Z",
     "start_time": "2024-04-11T19:42:27.536334Z"
    }
   },
   "cell_type": "code",
   "source": [
    "from tqdm import tqdm\n",
    "import time\n",
    "df_np= df.to_numpy()\n",
    "\n",
    "for ordem, cod in tqdm(df_np):\n",
    "    #print(f\"OS: {ordem}, Município: {cod}\")\n",
    "    time.sleep(0.2)\n",
    "\n",
    "# type(df_np)"
   ],
   "id": "85e3c0477d63ebe4",
   "outputs": [
    {
     "name": "stderr",
     "output_type": "stream",
     "text": [
      "100%|██████████| 12/12 [00:02<00:00,  4.96it/s]\n"
     ]
    }
   ],
   "execution_count": 46
  },
  {
   "metadata": {
    "ExecuteTime": {
     "end_time": "2024-04-11T20:34:55.244752Z",
     "start_time": "2024-04-11T20:34:55.239385Z"
    }
   },
   "cell_type": "code",
   "source": [
    "import numpy as np\n",
    "test = np.array([[1, 2]])\n",
    "print(df_np)\n",
    "len(test)\n"
   ],
   "id": "f35577131edcad50",
   "outputs": [
    {
     "name": "stdout",
     "output_type": "stream",
     "text": [
      "[['2409989893' '546']\n",
      " ['2410399659' '100']\n",
      " ['2410446473' '100']\n",
      " ['2409584330' '100']\n",
      " ['2409588716' '100']\n",
      " ['2409631508' '100']\n",
      " ['2409817236' '100']\n",
      " ['2409936540' '100']\n",
      " ['2409936863' '100']\n",
      " ['2409939299' '100']\n",
      " ['2409939699' '100']\n",
      " ['2409941263' '100']]\n"
     ]
    },
    {
     "data": {
      "text/plain": [
       "1"
      ]
     },
     "execution_count": 51,
     "metadata": {},
     "output_type": "execute_result"
    }
   ],
   "execution_count": 51
  }
 ],
 "metadata": {
  "kernelspec": {
   "display_name": "Python 3",
   "language": "python",
   "name": "python3"
  },
  "language_info": {
   "codemirror_mode": {
    "name": "ipython",
    "version": 2
   },
   "file_extension": ".py",
   "mimetype": "text/x-python",
   "name": "python",
   "nbconvert_exporter": "python",
   "pygments_lexer": "ipython2",
   "version": "2.7.6"
  }
 },
 "nbformat": 4,
 "nbformat_minor": 5
}

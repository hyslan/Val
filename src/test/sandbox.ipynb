{
 "cells": [
  {
   "metadata": {
    "ExecuteTime": {
     "end_time": "2024-05-28T11:27:56.630975Z",
     "start_time": "2024-05-28T11:27:56.559334Z"
    }
   },
   "cell_type": "code",
   "source": [
    "# -Begin-----------------------------------------------------------------\n",
    "# -Bibliotecas--------------------------------------------------------------\n",
    "import win32com.client\n",
    "import pythoncom\n",
    "# -Sub Main--------------------------------------------------------------\n",
    "\n",
    "\n",
    "def connect_to_sap():\n",
    "    '''Função para conexão SAP'''\n",
    "    try:\n",
    "        #pylint: disable=E1101\n",
    "        pythoncom.CoInitialize()\n",
    "        sapguiauto = win32com.client.GetObject(\"SAPGUI\")\n",
    "        if not isinstance(sapguiauto, win32com.client.CDispatch):\n",
    "            return\n",
    "\n",
    "        application = sapguiauto.GetScriptingEngine\n",
    "    except NameError:\n",
    "        print(NameError)\n",
    "\n",
    "    application = sapguiauto.GetScriptingEngine\n",
    "    if not isinstance(application, win32com.client.CDispatch):\n",
    "        sapguiauto = None\n",
    "        return\n",
    "\n",
    "    application.HistoryEnabled = True\n",
    "\n",
    "    connection = application.Children(0)\n",
    "    if not isinstance(connection, win32com.client.CDispatch):\n",
    "        application = None\n",
    "        sapguiauto = None\n",
    "        return\n",
    "\n",
    "    if connection.DisabledByServer is True:\n",
    "        connection = None\n",
    "        application = None\n",
    "        sapguiauto = None\n",
    "        return\n",
    "\n",
    "    session = connection.Children(0)\n",
    "    if not isinstance(session, win32com.client.CDispatch):\n",
    "        connection = None\n",
    "        application = None\n",
    "        sapguiauto = None\n",
    "        return\n",
    "\n",
    "    if session.Busy is True:\n",
    "        session = None\n",
    "        connection = None\n",
    "        application = None\n",
    "        sapguiauto = None\n",
    "        return\n",
    "\n",
    "    if session.Info.IsLowSpeedConnection is True:\n",
    "        session = None\n",
    "        connection = None\n",
    "        application = None\n",
    "        sapguiauto = None\n",
    "        return\n",
    "\n",
    "    return session, connection\n"
   ],
   "id": "a06149c7401b26",
   "outputs": [],
   "execution_count": 1
  },
  {
   "metadata": {
    "ExecuteTime": {
     "end_time": "2024-05-28T11:27:59.537288Z",
     "start_time": "2024-05-28T11:27:59.417955Z"
    }
   },
   "cell_type": "code",
   "source": "session, connection = connect_to_sap()",
   "id": "47230b6015b4fcf5",
   "outputs": [],
   "execution_count": 2
  },
  {
   "metadata": {
    "ExecuteTime": {
     "end_time": "2024-05-28T11:28:22.737321Z",
     "start_time": "2024-05-28T11:28:22.695935Z"
    }
   },
   "cell_type": "code",
   "source": [
    "frame = session.findById(\"wnd[0]\")\n",
    "frame.Iconify()"
   ],
   "id": "f7ec4bf81129714c",
   "outputs": [],
   "execution_count": 3
  },
  {
   "metadata": {
    "ExecuteTime": {
     "end_time": "2024-05-28T11:37:22.475284Z",
     "start_time": "2024-05-28T11:37:22.461434Z"
    }
   },
   "cell_type": "code",
   "source": "\n",
   "id": "8dd3e7ef53f8482f",
   "outputs": [],
   "execution_count": 17
  },
  {
   "metadata": {
    "ExecuteTime": {
     "end_time": "2024-05-28T11:37:25.894721Z",
     "start_time": "2024-05-28T11:37:25.756596Z"
    }
   },
   "cell_type": "code",
   "source": "session.StartTransaction(\"MBLB\")",
   "id": "bb25f810a129dc34",
   "outputs": [],
   "execution_count": 18
  }
 ],
 "metadata": {
  "kernelspec": {
   "display_name": "Python 3",
   "language": "python",
   "name": "python3"
  },
  "language_info": {
   "codemirror_mode": {
    "name": "ipython",
    "version": 2
   },
   "file_extension": ".py",
   "mimetype": "text/x-python",
   "name": "python",
   "nbconvert_exporter": "python",
   "pygments_lexer": "ipython2",
   "version": "2.7.6"
  }
 },
 "nbformat": 4,
 "nbformat_minor": 5
}

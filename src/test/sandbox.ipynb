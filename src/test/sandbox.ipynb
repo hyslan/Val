{
 "cells": [
  {
   "metadata": {},
   "cell_type": "code",
   "outputs": [],
   "execution_count": null,
   "source": [
    "# -Begin-----------------------------------------------------------------\n",
    "# -Bibliotecas--------------------------------------------------------------\n",
    "import win32com.client\n",
    "import pythoncom\n",
    "# -Sub Main--------------------------------------------------------------\n",
    "\n",
    "\n",
    "\n",
    "'''Função para conexão SAP'''\n",
    "try:\n",
    "    #pylint: disable=E1101\n",
    "    pythoncom.CoInitialize()\n",
    "    sapguiauto = win32com.client.GetObject(\"SAPGUI\")\n",
    "    application = sapguiauto.GetScriptingEngine\n",
    "except NameError:\n",
    "    print(NameError)\n",
    "\n",
    "application = sapguiauto.GetScriptingEngine\n",
    "\n",
    "if not isinstance(application, win32com.client.CDispatch):\n",
    "    sapguiauto = None\n",
    "\n",
    "\n",
    "application.HistoryEnabled = True\n",
    "\n",
    "connection = application.Children(0)\n",
    "\n",
    "if not isinstance(connection, win32com.client.CDispatch):\n",
    "    application = None\n",
    "    sapguiauto = None\n",
    " \n",
    "\n",
    "if connection.DisabledByServer is True:\n",
    "    connection = None\n",
    "    application = None\n",
    "    sapguiauto = None\n",
    "\n",
    "\n",
    "session: win32com.client.CDispatch = connection.Children(0)\n",
    "\n",
    "\n"
   ],
   "id": "84814ee4cfec25ca"
  },
  {
   "metadata": {},
   "cell_type": "code",
   "outputs": [],
   "execution_count": null,
   "source": "print(dir(session))",
   "id": "580572e4b2675930"
  },
  {
   "metadata": {
    "ExecuteTime": {
     "end_time": "2024-06-28T12:52:10.809085Z",
     "start_time": "2024-06-28T12:52:10.639852Z"
    }
   },
   "cell_type": "code",
   "source": [
    "import win32com.client\n",
    "# Progid= Sapgui.ScriptingCtrl.1\n",
    "#CLSID= HKEY_CLASSES_ROOT\\WOW6432Node\\CLSID\\{B90F32AD-859E-4EDD-BFAE-C9216849520C}\n",
    "componente = win32com.client.Dispatch(\"SAP Scripting Control\")\n"
   ],
   "id": "ac94e0f1b69b8609",
   "outputs": [
    {
     "ename": "com_error",
     "evalue": "(-2147221005, 'Cadeia de caracteres de classe inválida', None, None)",
     "output_type": "error",
     "traceback": [
      "\u001B[1;31m---------------------------------------------------------------------------\u001B[0m",
      "\u001B[1;31mcom_error\u001B[0m                                 Traceback (most recent call last)",
      "File \u001B[1;32m~\\Documents\\Meus Projetos\\Val\\.venv\\Lib\\site-packages\\win32com\\client\\dynamic.py:84\u001B[0m, in \u001B[0;36m_GetGoodDispatch\u001B[1;34m(IDispatch, clsctx)\u001B[0m\n\u001B[0;32m     83\u001B[0m \u001B[38;5;28;01mtry\u001B[39;00m:\n\u001B[1;32m---> 84\u001B[0m     IDispatch \u001B[38;5;241m=\u001B[39m \u001B[43mpythoncom\u001B[49m\u001B[38;5;241;43m.\u001B[39;49m\u001B[43mconnect\u001B[49m\u001B[43m(\u001B[49m\u001B[43mIDispatch\u001B[49m\u001B[43m)\u001B[49m\n\u001B[0;32m     85\u001B[0m \u001B[38;5;28;01mexcept\u001B[39;00m pythoncom\u001B[38;5;241m.\u001B[39mole_error:\n",
      "\u001B[1;31mcom_error\u001B[0m: (-2147221005, 'Cadeia de caracteres de classe inválida', None, None)",
      "\nDuring handling of the above exception, another exception occurred:\n",
      "\u001B[1;31mcom_error\u001B[0m                                 Traceback (most recent call last)",
      "Cell \u001B[1;32mIn[2], line 4\u001B[0m\n\u001B[0;32m      1\u001B[0m \u001B[38;5;28;01mimport\u001B[39;00m \u001B[38;5;21;01mwin32com\u001B[39;00m\u001B[38;5;21;01m.\u001B[39;00m\u001B[38;5;21;01mclient\u001B[39;00m\n\u001B[0;32m      2\u001B[0m \u001B[38;5;66;03m# Progid= Sapgui.ScriptingCtrl.1\u001B[39;00m\n\u001B[0;32m      3\u001B[0m \u001B[38;5;66;03m#CLSID= HKEY_CLASSES_ROOT\\WOW6432Node\\CLSID\\{B90F32AD-859E-4EDD-BFAE-C9216849520C}\u001B[39;00m\n\u001B[1;32m----> 4\u001B[0m componente \u001B[38;5;241m=\u001B[39m \u001B[43mwin32com\u001B[49m\u001B[38;5;241;43m.\u001B[39;49m\u001B[43mclient\u001B[49m\u001B[38;5;241;43m.\u001B[39;49m\u001B[43mDispatch\u001B[49m\u001B[43m(\u001B[49m\u001B[38;5;124;43m\"\u001B[39;49m\u001B[38;5;124;43mSAP Scripting Control\u001B[39;49m\u001B[38;5;124;43m\"\u001B[39;49m\u001B[43m)\u001B[49m\n",
      "File \u001B[1;32m~\\Documents\\Meus Projetos\\Val\\.venv\\Lib\\site-packages\\win32com\\client\\__init__.py:118\u001B[0m, in \u001B[0;36mDispatch\u001B[1;34m(dispatch, userName, resultCLSID, typeinfo, UnicodeToString, clsctx)\u001B[0m\n\u001B[0;32m    116\u001B[0m \u001B[38;5;250m\u001B[39m\u001B[38;5;124;03m\"\"\"Creates a Dispatch based COM object.\"\"\"\u001B[39;00m\n\u001B[0;32m    117\u001B[0m \u001B[38;5;28;01massert\u001B[39;00m UnicodeToString \u001B[38;5;129;01mis\u001B[39;00m \u001B[38;5;28;01mNone\u001B[39;00m, \u001B[38;5;124m\"\u001B[39m\u001B[38;5;124mthis is deprecated and will go away\u001B[39m\u001B[38;5;124m\"\u001B[39m\n\u001B[1;32m--> 118\u001B[0m dispatch, userName \u001B[38;5;241m=\u001B[39m \u001B[43mdynamic\u001B[49m\u001B[38;5;241;43m.\u001B[39;49m\u001B[43m_GetGoodDispatchAndUserName\u001B[49m\u001B[43m(\u001B[49m\u001B[43mdispatch\u001B[49m\u001B[43m,\u001B[49m\u001B[43m \u001B[49m\u001B[43muserName\u001B[49m\u001B[43m,\u001B[49m\u001B[43m \u001B[49m\u001B[43mclsctx\u001B[49m\u001B[43m)\u001B[49m\n\u001B[0;32m    119\u001B[0m \u001B[38;5;28;01mreturn\u001B[39;00m __WrapDispatch(dispatch, userName, resultCLSID, typeinfo, clsctx\u001B[38;5;241m=\u001B[39mclsctx)\n",
      "File \u001B[1;32m~\\Documents\\Meus Projetos\\Val\\.venv\\Lib\\site-packages\\win32com\\client\\dynamic.py:104\u001B[0m, in \u001B[0;36m_GetGoodDispatchAndUserName\u001B[1;34m(IDispatch, userName, clsctx)\u001B[0m\n\u001B[0;32m    101\u001B[0m     \u001B[38;5;66;03m## ??? else userName remains None ???\u001B[39;00m\n\u001B[0;32m    102\u001B[0m \u001B[38;5;28;01melse\u001B[39;00m:\n\u001B[0;32m    103\u001B[0m     userName \u001B[38;5;241m=\u001B[39m \u001B[38;5;28mstr\u001B[39m(userName)\n\u001B[1;32m--> 104\u001B[0m \u001B[38;5;28;01mreturn\u001B[39;00m (\u001B[43m_GetGoodDispatch\u001B[49m\u001B[43m(\u001B[49m\u001B[43mIDispatch\u001B[49m\u001B[43m,\u001B[49m\u001B[43m \u001B[49m\u001B[43mclsctx\u001B[49m\u001B[43m)\u001B[49m, userName)\n",
      "File \u001B[1;32m~\\Documents\\Meus Projetos\\Val\\.venv\\Lib\\site-packages\\win32com\\client\\dynamic.py:86\u001B[0m, in \u001B[0;36m_GetGoodDispatch\u001B[1;34m(IDispatch, clsctx)\u001B[0m\n\u001B[0;32m     84\u001B[0m         IDispatch \u001B[38;5;241m=\u001B[39m pythoncom\u001B[38;5;241m.\u001B[39mconnect(IDispatch)\n\u001B[0;32m     85\u001B[0m     \u001B[38;5;28;01mexcept\u001B[39;00m pythoncom\u001B[38;5;241m.\u001B[39mole_error:\n\u001B[1;32m---> 86\u001B[0m         IDispatch \u001B[38;5;241m=\u001B[39m \u001B[43mpythoncom\u001B[49m\u001B[38;5;241;43m.\u001B[39;49m\u001B[43mCoCreateInstance\u001B[49m\u001B[43m(\u001B[49m\n\u001B[0;32m     87\u001B[0m \u001B[43m            \u001B[49m\u001B[43mIDispatch\u001B[49m\u001B[43m,\u001B[49m\u001B[43m \u001B[49m\u001B[38;5;28;43;01mNone\u001B[39;49;00m\u001B[43m,\u001B[49m\u001B[43m \u001B[49m\u001B[43mclsctx\u001B[49m\u001B[43m,\u001B[49m\u001B[43m \u001B[49m\u001B[43mpythoncom\u001B[49m\u001B[38;5;241;43m.\u001B[39;49m\u001B[43mIID_IDispatch\u001B[49m\n\u001B[0;32m     88\u001B[0m \u001B[43m        \u001B[49m\u001B[43m)\u001B[49m\n\u001B[0;32m     89\u001B[0m \u001B[38;5;28;01melse\u001B[39;00m:\n\u001B[0;32m     90\u001B[0m     \u001B[38;5;66;03m# may already be a wrapped class.\u001B[39;00m\n\u001B[0;32m     91\u001B[0m     IDispatch \u001B[38;5;241m=\u001B[39m \u001B[38;5;28mgetattr\u001B[39m(IDispatch, \u001B[38;5;124m\"\u001B[39m\u001B[38;5;124m_oleobj_\u001B[39m\u001B[38;5;124m\"\u001B[39m, IDispatch)\n",
      "\u001B[1;31mcom_error\u001B[0m: (-2147221005, 'Cadeia de caracteres de classe inválida', None, None)"
     ]
    }
   ],
   "execution_count": 2
  },
  {
   "metadata": {
    "ExecuteTime": {
     "end_time": "2024-06-28T13:08:45.686597Z",
     "start_time": "2024-06-28T13:08:45.678313Z"
    }
   },
   "cell_type": "code",
   "source": [
    "import pythoncom\n",
    "context = pythoncom.CreateBindCtx(0)\n",
    "running_coms = pythoncom.GetRunningObjectTable()\n",
    "monikers = running_coms.EnumRunning()\n",
    "print(monikers)\n",
    "for moniker in monikers:\n",
    "    print('-'*100)\n",
    "    print(moniker.GetDisplayName(context, moniker))\n",
    "    \n",
    "    print(moniker.Hash())\n",
    "    \n",
    "    print(moniker.IsSystemMoniker())\n"
   ],
   "id": "62eb2a361f068a79",
   "outputs": [
    {
     "name": "stdout",
     "output_type": "stream",
     "text": [
      "<PyIEnumMoniker at 0x00000227127A0EE0 with obj at 0x000002270DB94940>\n"
     ]
    }
   ],
   "execution_count": 6
  },
  {
   "metadata": {
    "ExecuteTime": {
     "end_time": "2024-06-28T11:51:46.080453Z",
     "start_time": "2024-06-28T11:51:22.736780Z"
    }
   },
   "cell_type": "code",
   "source": [
    "import comtypes.client as com\n",
    "\n",
    "sap_gui = com.GetActiveObject(\"Excel.Application\")"
   ],
   "id": "f0425088abc95f57",
   "outputs": [],
   "execution_count": 24
  },
  {
   "metadata": {
    "ExecuteTime": {
     "end_time": "2024-06-27T20:14:07.918891Z",
     "start_time": "2024-06-27T20:14:07.911672Z"
    }
   },
   "cell_type": "code",
   "source": [
    "frame = session.findById(\"wnd[0]\")\n",
    "print(type(frame))"
   ],
   "id": "f7ec4bf81129714c",
   "outputs": [
    {
     "name": "stdout",
     "output_type": "stream",
     "text": [
      "<class 'win32com.client.CDispatch'>\n"
     ]
    }
   ],
   "execution_count": 13
  },
  {
   "metadata": {},
   "cell_type": "code",
   "source": [
    "ordem = session.findById(\"wnd[0]/usr/txtGS_HEADER-NUM_ORDEM\")\n",
    "ordem.text"
   ],
   "id": "8dd3e7ef53f8482f",
   "outputs": [],
   "execution_count": null
  },
  {
   "metadata": {},
   "cell_type": "code",
   "source": [
    "f_os = frame.findById(\"usr/txtGS_HEADER-NUM_ORDEM\")\n",
    "f_os.text"
   ],
   "id": "1fda6f090fc236fe",
   "outputs": [],
   "execution_count": null
  },
  {
   "metadata": {},
   "cell_type": "code",
   "source": "usr = session.findById(\"wnd[0]/usr\")",
   "id": "69dc64a05b3b384d",
   "outputs": [],
   "execution_count": null
  },
  {
   "metadata": {
    "ExecuteTime": {
     "end_time": "2024-06-24T19:17:54.222313Z",
     "start_time": "2024-06-24T19:17:54.211041Z"
    }
   },
   "cell_type": "code",
   "source": [
    "tb = usr.findById(\"tabsTAB_ITENS_PRECO/tabpTABM/ssubSUB_TAB:ZSBMM_VALORACAO_NAPI:9030/cntlCC_MATERIAIS/shellcont/shell\")\n",
    "tb"
   ],
   "id": "8e23621574659311",
   "outputs": [
    {
     "data": {
      "text/plain": [
       "<COMObject <unknown>>"
      ]
     },
     "execution_count": 104,
     "metadata": {},
     "output_type": "execute_result"
    }
   ],
   "execution_count": 104
  },
  {
   "metadata": {
    "ExecuteTime": {
     "end_time": "2024-06-24T19:18:04.764932Z",
     "start_time": "2024-06-24T19:18:04.414630Z"
    }
   },
   "cell_type": "code",
   "source": "tb.SetCurrentCell(0, 'ETAPA')",
   "id": "bb25f810a129dc34",
   "outputs": [],
   "execution_count": 105
  },
  {
   "metadata": {
    "ExecuteTime": {
     "end_time": "2024-06-24T19:18:08.182891Z",
     "start_time": "2024-06-24T19:18:08.103901Z"
    }
   },
   "cell_type": "code",
   "source": "tb.InsertRows(str(1))",
   "id": "5bc55167bbd95c12",
   "outputs": [],
   "execution_count": 106
  },
  {
   "metadata": {},
   "cell_type": "code",
   "source": [
    "import itertools\n",
    "lista = []\n",
    "for i, j in itertools.product(range(1, 3), range(1, 3)):   \n",
    "    lista.append((i, j))"
   ],
   "id": "b1be0086da6a3c7b",
   "outputs": [],
   "execution_count": null
  },
  {
   "metadata": {},
   "cell_type": "code",
   "source": "lista",
   "id": "5f8e0a480e27db82",
   "outputs": [],
   "execution_count": null
  },
  {
   "metadata": {},
   "cell_type": "code",
   "source": [
    "import numpy as np\n",
    "\n",
    "# Inicializa um array vazio com 0 linhas e 2 colunas (ajuste a quantidade de colunas conforme necessário)\n",
    "array = np.empty((0, 2), int)\n",
    "\n",
    "# Cria algumas tuplas\n",
    "tupla1 = (1, 2)\n",
    "tupla2 = (3, 4)\n",
    "tupla3 = (5, 6)\n",
    "\n",
    "# Adiciona as tuplas ao array\n",
    "array = np.append(array, [tupla1], axis=0)\n",
    "array = np.append(array, [tupla2], axis=0)\n",
    "array = np.append(array, [tupla3], axis=0)\n",
    "\n",
    "print(array[:, 0])\n"
   ],
   "id": "25c87a692b8279b2",
   "outputs": [],
   "execution_count": null
  },
  {
   "metadata": {},
   "cell_type": "code",
   "source": [
    "# mascara = array[:, 0] == 1\n",
    "# valores_correspondentes = array[mascara, 1]\n",
    "# print(valores_correspondentes[0])\n",
    "test = array[array[:, 0] == 1, 1]\n",
    "test[0]"
   ],
   "id": "f6e11d376406158e",
   "outputs": [],
   "execution_count": null
  },
  {
   "metadata": {},
   "cell_type": "code",
   "source": [
    "import numpy as np\n",
    "sap_hidro = np.empty((0,2), dtype=str)\n",
    "sap_hidro"
   ],
   "id": "5783ad6ab218c776",
   "outputs": [],
   "execution_count": null
  },
  {
   "metadata": {},
   "cell_type": "code",
   "source": [
    "sap_material = \"010\"\n",
    "sap_etapa_material = \"ETAPA\"\n",
    "sap_hidro = np.append(sap_hidro, np.array([[sap_material, sap_etapa_material]]), axis=0)"
   ],
   "id": "7665701768e7e466",
   "outputs": [],
   "execution_count": null
  },
  {
   "metadata": {},
   "cell_type": "code",
   "source": "sap_hidro[:, 0]",
   "id": "b91a2fbd23b1412d",
   "outputs": [],
   "execution_count": null
  },
  {
   "metadata": {
    "ExecuteTime": {
     "end_time": "2024-06-24T19:21:10.258367Z",
     "start_time": "2024-06-24T19:21:10.251328Z"
    }
   },
   "cell_type": "code",
   "source": [
    "hidro = \"A21G005653\"\n",
    "if hidro.startswith(\"A\"):\n",
    "    if hidro[3] == 'G':\n",
    "        print(\"SAGA\")"
   ],
   "id": "44ecc35e870ce2a",
   "outputs": [
    {
     "name": "stdout",
     "output_type": "stream",
     "text": [
      "SAGA\n"
     ]
    }
   ],
   "execution_count": 108
  },
  {
   "metadata": {
    "ExecuteTime": {
     "end_time": "2024-07-01T19:35:17.088358Z",
     "start_time": "2024-07-01T19:35:17.070883Z"
    }
   },
   "cell_type": "code",
   "source": [
    "lista = [{\"material\": \"10\", \"etapa\": \"1000\"},\n",
    "         {\"material\": \"20\", \"etapa\": \"2000\"}]\n",
    "\n",
    "if \"0\" in [i[\"material\"] for i in lista]:\n",
    "    print(\"Achou material\")\n",
    "    if \"1000\" in [i[\"etapa\"] for i in lista]:\n",
    "        print(\"Achou etapa\")"
   ],
   "id": "a9eb948cc2b17ec2",
   "outputs": [],
   "execution_count": 15
  },
  {
   "metadata": {
    "ExecuteTime": {
     "end_time": "2024-07-15T18:00:45.094029Z",
     "start_time": "2024-07-15T18:00:45.081581Z"
    }
   },
   "cell_type": "code",
   "source": [
    "import datetime as dt\n",
    "today = dt.date.today()\n",
    "# month before\n",
    "month_before = today.replace(day=1) - dt.timedelta(days=1)\n",
    "start = month_before.replace(day=1)\n",
    "print(type(start), type(month_before))"
   ],
   "id": "3d90366eae6dcd8a",
   "outputs": [
    {
     "name": "stdout",
     "output_type": "stream",
     "text": [
      "<class 'datetime.date'> <class 'datetime.date'>\n"
     ]
    }
   ],
   "execution_count": 5
  },
  {
   "metadata": {},
   "cell_type": "code",
   "outputs": [],
   "execution_count": null,
   "source": "",
   "id": "60fa1c6437836ad1"
  }
 ],
 "metadata": {
  "kernelspec": {
   "display_name": "Python 3",
   "language": "python",
   "name": "python3"
  },
  "language_info": {
   "codemirror_mode": {
    "name": "ipython",
    "version": 2
   },
   "file_extension": ".py",
   "mimetype": "text/x-python",
   "name": "python",
   "nbconvert_exporter": "python",
   "pygments_lexer": "ipython2",
   "version": "2.7.6"
  }
 },
 "nbformat": 4,
 "nbformat_minor": 5
}

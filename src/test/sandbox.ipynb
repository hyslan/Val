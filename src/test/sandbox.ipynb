{
 "cells": [
  {
   "cell_type": "code",
   "execution_count": 2,
   "id": "84814ee4cfec25ca",
   "metadata": {},
   "outputs": [
    {
     "ename": "com_error",
     "evalue": "(-2147221020, 'Sintaxe inválida', None, None)",
     "output_type": "error",
     "traceback": [
      "\u001b[1;31m---------------------------------------------------------------------------\u001b[0m",
      "\u001b[1;31mcom_error\u001b[0m                                 Traceback (most recent call last)",
      "Cell \u001b[1;32mIn[2], line 12\u001b[0m\n\u001b[0;32m     10\u001b[0m \u001b[38;5;124;03m'''Função para conexão SAP'''\u001b[39;00m\n\u001b[0;32m     11\u001b[0m \u001b[38;5;66;03m# pythoncom.CoInitialize()\u001b[39;00m\n\u001b[1;32m---> 12\u001b[0m sapguiauto \u001b[38;5;241m=\u001b[39m \u001b[43mwin32com\u001b[49m\u001b[38;5;241;43m.\u001b[39;49m\u001b[43mclient\u001b[49m\u001b[38;5;241;43m.\u001b[39;49m\u001b[43mGetObject\u001b[49m\u001b[43m(\u001b[49m\u001b[38;5;124;43m\"\u001b[39;49m\u001b[38;5;124;43mSAPGUI\u001b[39;49m\u001b[38;5;124;43m\"\u001b[39;49m\u001b[43m)\u001b[49m\n\u001b[0;32m     14\u001b[0m \u001b[38;5;66;03m# Python Type architecture\u001b[39;00m\n\u001b[0;32m     15\u001b[0m \u001b[38;5;66;03m# bits_architecture = platform.architecture()[0]\u001b[39;00m\n\u001b[0;32m     16\u001b[0m \u001b[38;5;66;03m# print(bits_architecture)\u001b[39;00m\n\u001b[1;32m   (...)\u001b[0m\n\u001b[0;32m     20\u001b[0m \u001b[38;5;66;03m# connection = application.Children(1)\u001b[39;00m\n\u001b[0;32m     21\u001b[0m \u001b[38;5;66;03m# session: win32com.client.CDispatch = connection.Children(0)\u001b[39;00m\n",
      "File \u001b[1;32m~\\AppData\\Roaming\\Python\\Python312\\site-packages\\win32com\\client\\__init__.py:86\u001b[0m, in \u001b[0;36mGetObject\u001b[1;34m(Pathname, Class, clsctx)\u001b[0m\n\u001b[0;32m     84\u001b[0m     \u001b[38;5;28;01mreturn\u001b[39;00m GetActiveObject(Class, clsctx)\n\u001b[0;32m     85\u001b[0m \u001b[38;5;28;01melse\u001b[39;00m:\n\u001b[1;32m---> 86\u001b[0m     \u001b[38;5;28;01mreturn\u001b[39;00m \u001b[43mMoniker\u001b[49m\u001b[43m(\u001b[49m\u001b[43mPathname\u001b[49m\u001b[43m,\u001b[49m\u001b[43m \u001b[49m\u001b[43mclsctx\u001b[49m\u001b[43m)\u001b[49m\n",
      "File \u001b[1;32m~\\AppData\\Roaming\\Python\\Python312\\site-packages\\win32com\\client\\__init__.py:103\u001b[0m, in \u001b[0;36mMoniker\u001b[1;34m(Pathname, clsctx)\u001b[0m\n\u001b[0;32m     99\u001b[0m \u001b[38;5;28;01mdef\u001b[39;00m \u001b[38;5;21mMoniker\u001b[39m(Pathname, clsctx\u001b[38;5;241m=\u001b[39mpythoncom\u001b[38;5;241m.\u001b[39mCLSCTX_ALL):\n\u001b[0;32m    100\u001b[0m \u001b[38;5;250m    \u001b[39m\u001b[38;5;124;03m\"\"\"\u001b[39;00m\n\u001b[0;32m    101\u001b[0m \u001b[38;5;124;03m    Python friendly version of GetObject's moniker functionality.\u001b[39;00m\n\u001b[0;32m    102\u001b[0m \u001b[38;5;124;03m    \"\"\"\u001b[39;00m\n\u001b[1;32m--> 103\u001b[0m     moniker, i, bindCtx \u001b[38;5;241m=\u001b[39m \u001b[43mpythoncom\u001b[49m\u001b[38;5;241;43m.\u001b[39;49m\u001b[43mMkParseDisplayName\u001b[49m\u001b[43m(\u001b[49m\u001b[43mPathname\u001b[49m\u001b[43m)\u001b[49m\n\u001b[0;32m    104\u001b[0m     dispatch \u001b[38;5;241m=\u001b[39m moniker\u001b[38;5;241m.\u001b[39mBindToObject(bindCtx, \u001b[38;5;28;01mNone\u001b[39;00m, pythoncom\u001b[38;5;241m.\u001b[39mIID_IDispatch)\n\u001b[0;32m    105\u001b[0m     \u001b[38;5;28;01mreturn\u001b[39;00m __WrapDispatch(dispatch, Pathname, clsctx\u001b[38;5;241m=\u001b[39mclsctx)\n",
      "\u001b[1;31mcom_error\u001b[0m: (-2147221020, 'Sintaxe inválida', None, None)"
     ]
    }
   ],
   "source": [
    "# -Begin-----------------------------------------------------------------\n",
    "# -Bibliotecas--------------------------------------------------------------\n",
    "\n",
    "import os\n",
    "import win32com.client\n",
    "import pythoncom\n",
    "import platform\n",
    "# -Sub Main--------------------------------------------------------------\n",
    "\n",
    "'''Função para conexão SAP'''\n",
    "# pythoncom.CoInitialize()\n",
    "sapguiauto = win32com.client.GetObject(\"SAPGUI\")\n",
    "\n",
    "# Python Type architecture\n",
    "# bits_architecture = platform.architecture()[0]\n",
    "# print(bits_architecture)\n",
    "# application = sapguiauto.GetScriptingEngine\n",
    "# application.HistoryEnabled = True\n",
    "# print(sapguiauto)\n",
    "# connection = application.Children(1)\n",
    "# session: win32com.client.CDispatch = connection.Children(0)\n"
   ]
  },
  {
   "cell_type": "code",
   "execution_count": 13,
   "id": "580572e4b2675930",
   "metadata": {},
   "outputs": [
    {
     "ename": "AttributeError",
     "evalue": "'str' object has no attribute 'GetTypeInfoCount'",
     "output_type": "error",
     "traceback": [
      "\u001b[1;31m---------------------------------------------------------------------------\u001b[0m",
      "\u001b[1;31mAttributeError\u001b[0m                            Traceback (most recent call last)",
      "Cell \u001b[1;32mIn[13], line 1\u001b[0m\n\u001b[1;32m----> 1\u001b[0m \u001b[38;5;28mprint\u001b[39m(\u001b[38;5;28;43mdir\u001b[39;49m\u001b[43m(\u001b[49m\u001b[43msapguiauto\u001b[49m\u001b[43m)\u001b[49m)\n",
      "File \u001b[1;32mc:\\Users\\irgpapais\\Documents\\Meus Projetos\\Val\\.venv\\Lib\\site-packages\\win32com\\client\\__init__.py:167\u001b[0m, in \u001b[0;36mCDispatch.__dir__\u001b[1;34m(self)\u001b[0m\n\u001b[0;32m    166\u001b[0m \u001b[38;5;28;01mdef\u001b[39;00m \u001b[38;5;21m__dir__\u001b[39m(\u001b[38;5;28mself\u001b[39m):\n\u001b[1;32m--> 167\u001b[0m     \u001b[38;5;28;01mreturn\u001b[39;00m \u001b[43mdynamic\u001b[49m\u001b[38;5;241;43m.\u001b[39;49m\u001b[43mCDispatch\u001b[49m\u001b[38;5;241;43m.\u001b[39;49m\u001b[38;5;21;43m__dir__\u001b[39;49m\u001b[43m(\u001b[49m\u001b[38;5;28;43mself\u001b[39;49m\u001b[43m)\u001b[49m\n",
      "File \u001b[1;32mc:\\Users\\irgpapais\\Documents\\Meus Projetos\\Val\\.venv\\Lib\\site-packages\\win32com\\client\\dynamic.py:247\u001b[0m, in \u001b[0;36mCDispatch.__dir__\u001b[1;34m(self)\u001b[0m\n\u001b[0;32m    246\u001b[0m \u001b[38;5;28;01mdef\u001b[39;00m \u001b[38;5;21m__dir__\u001b[39m(\u001b[38;5;28mself\u001b[39m):\n\u001b[1;32m--> 247\u001b[0m     lst \u001b[38;5;241m=\u001b[39m \u001b[38;5;28mlist\u001b[39m(\u001b[38;5;28mself\u001b[39m\u001b[38;5;241m.\u001b[39m\u001b[38;5;18m__dict__\u001b[39m\u001b[38;5;241m.\u001b[39mkeys()) \u001b[38;5;241m+\u001b[39m \u001b[38;5;28mdir\u001b[39m(\u001b[38;5;28mself\u001b[39m\u001b[38;5;241m.\u001b[39m\u001b[38;5;18m__class__\u001b[39m) \u001b[38;5;241m+\u001b[39m \u001b[38;5;28;43mself\u001b[39;49m\u001b[38;5;241;43m.\u001b[39;49m\u001b[43m_dir_ole_\u001b[49m\u001b[43m(\u001b[49m\u001b[43m)\u001b[49m\n\u001b[0;32m    248\u001b[0m     \u001b[38;5;28;01mtry\u001b[39;00m:\n\u001b[0;32m    249\u001b[0m         lst \u001b[38;5;241m+\u001b[39m\u001b[38;5;241m=\u001b[39m [p\u001b[38;5;241m.\u001b[39mName \u001b[38;5;28;01mfor\u001b[39;00m p \u001b[38;5;129;01min\u001b[39;00m \u001b[38;5;28mself\u001b[39m\u001b[38;5;241m.\u001b[39mProperties_]\n",
      "File \u001b[1;32mc:\\Users\\irgpapais\\Documents\\Meus Projetos\\Val\\.venv\\Lib\\site-packages\\win32com\\client\\dynamic.py:256\u001b[0m, in \u001b[0;36mCDispatch._dir_ole_\u001b[1;34m(self)\u001b[0m\n\u001b[0;32m    254\u001b[0m \u001b[38;5;28;01mdef\u001b[39;00m \u001b[38;5;21m_dir_ole_\u001b[39m(\u001b[38;5;28mself\u001b[39m):\n\u001b[0;32m    255\u001b[0m     items_dict \u001b[38;5;241m=\u001b[39m {}\n\u001b[1;32m--> 256\u001b[0m     \u001b[38;5;28;01mfor\u001b[39;00m iTI \u001b[38;5;129;01min\u001b[39;00m \u001b[38;5;28mrange\u001b[39m(\u001b[38;5;241m0\u001b[39m, \u001b[38;5;28;43mself\u001b[39;49m\u001b[38;5;241;43m.\u001b[39;49m\u001b[43m_oleobj_\u001b[49m\u001b[38;5;241;43m.\u001b[39;49m\u001b[43mGetTypeInfoCount\u001b[49m()):\n\u001b[0;32m    257\u001b[0m         typeInfo \u001b[38;5;241m=\u001b[39m \u001b[38;5;28mself\u001b[39m\u001b[38;5;241m.\u001b[39m_oleobj_\u001b[38;5;241m.\u001b[39mGetTypeInfo(iTI)\n\u001b[0;32m    258\u001b[0m         \u001b[38;5;28mself\u001b[39m\u001b[38;5;241m.\u001b[39m_UpdateWithITypeInfo_(items_dict, typeInfo)\n",
      "\u001b[1;31mAttributeError\u001b[0m: 'str' object has no attribute 'GetTypeInfoCount'"
     ]
    }
   ],
   "source": [
    "print(dir(sapguiauto))"
   ]
  },
  {
   "cell_type": "code",
   "execution_count": null,
   "id": "ac94e0f1b69b8609",
   "metadata": {
    "ExecuteTime": {
     "end_time": "2024-06-28T12:52:10.809085Z",
     "start_time": "2024-06-28T12:52:10.639852Z"
    }
   },
   "outputs": [],
   "source": [
    "import win32com.client\n",
    "# Progid= Sapgui.ScriptingCtrl.1\n",
    "#CLSID= HKEY_CLASSES_ROOT\\WOW6432Node\\CLSID\\{B90F32AD-859E-4EDD-BFAE-C9216849520C}\n",
    "componente = win32com.client.Dispatch(\"SAP Scripting Control\")\n"
   ]
  },
  {
   "cell_type": "code",
   "execution_count": null,
   "id": "62eb2a361f068a79",
   "metadata": {
    "ExecuteTime": {
     "end_time": "2024-06-28T13:08:45.686597Z",
     "start_time": "2024-06-28T13:08:45.678313Z"
    }
   },
   "outputs": [],
   "source": [
    "import pythoncom\n",
    "context = pythoncom.CreateBindCtx(0)\n",
    "running_coms = pythoncom.GetRunningObjectTable()\n",
    "monikers = running_coms.EnumRunning()\n",
    "print(monikers)\n",
    "for moniker in monikers:\n",
    "    print('-'*100)\n",
    "    print(moniker.GetDisplayName(context, moniker))\n",
    "    \n",
    "    print(moniker.Hash())\n",
    "    \n",
    "    print(moniker.IsSystemMoniker())\n"
   ]
  },
  {
   "cell_type": "code",
   "execution_count": null,
   "id": "f0425088abc95f57",
   "metadata": {
    "ExecuteTime": {
     "end_time": "2024-06-28T11:51:46.080453Z",
     "start_time": "2024-06-28T11:51:22.736780Z"
    }
   },
   "outputs": [],
   "source": [
    "import comtypes.client as com\n",
    "\n",
    "sap_gui = com.GetActiveObject(\"Excel.Application\")"
   ]
  },
  {
   "cell_type": "code",
   "execution_count": null,
   "id": "f7ec4bf81129714c",
   "metadata": {
    "ExecuteTime": {
     "end_time": "2024-06-27T20:14:07.918891Z",
     "start_time": "2024-06-27T20:14:07.911672Z"
    }
   },
   "outputs": [],
   "source": [
    "frame = session.findById(\"wnd[0]\")\n",
    "print(type(frame))"
   ]
  },
  {
   "cell_type": "code",
   "execution_count": null,
   "id": "8dd3e7ef53f8482f",
   "metadata": {},
   "outputs": [],
   "source": [
    "ordem = session.findById(\"wnd[0]/usr/txtGS_HEADER-NUM_ORDEM\")\n",
    "ordem.text"
   ]
  },
  {
   "cell_type": "code",
   "execution_count": null,
   "id": "1fda6f090fc236fe",
   "metadata": {},
   "outputs": [],
   "source": [
    "f_os = frame.findById(\"usr/txtGS_HEADER-NUM_ORDEM\")\n",
    "f_os.text"
   ]
  },
  {
   "cell_type": "code",
   "execution_count": null,
   "id": "69dc64a05b3b384d",
   "metadata": {},
   "outputs": [],
   "source": [
    "usr = session.findById(\"wnd[0]/usr\")"
   ]
  },
  {
   "cell_type": "code",
   "execution_count": null,
   "id": "8e23621574659311",
   "metadata": {
    "ExecuteTime": {
     "end_time": "2024-06-24T19:17:54.222313Z",
     "start_time": "2024-06-24T19:17:54.211041Z"
    }
   },
   "outputs": [],
   "source": [
    "tb = usr.findById(\"tabsTAB_ITENS_PRECO/tabpTABM/ssubSUB_TAB:ZSBMM_VALORACAO_NAPI:9030/cntlCC_MATERIAIS/shellcont/shell\")\n",
    "tb"
   ]
  },
  {
   "cell_type": "code",
   "execution_count": null,
   "id": "bb25f810a129dc34",
   "metadata": {
    "ExecuteTime": {
     "end_time": "2024-06-24T19:18:04.764932Z",
     "start_time": "2024-06-24T19:18:04.414630Z"
    }
   },
   "outputs": [],
   "source": [
    "tb.SetCurrentCell(0, 'ETAPA')"
   ]
  },
  {
   "cell_type": "code",
   "execution_count": null,
   "id": "5bc55167bbd95c12",
   "metadata": {
    "ExecuteTime": {
     "end_time": "2024-06-24T19:18:08.182891Z",
     "start_time": "2024-06-24T19:18:08.103901Z"
    }
   },
   "outputs": [],
   "source": [
    "tb.InsertRows(str(1))"
   ]
  }
 ],
 "metadata": {
  "kernelspec": {
   "display_name": "Python 3",
   "language": "python",
   "name": "python3"
  },
  "language_info": {
   "codemirror_mode": {
    "name": "ipython",
    "version": 3
   },
   "file_extension": ".py",
   "mimetype": "text/x-python",
   "name": "python",
   "nbconvert_exporter": "python",
   "pygments_lexer": "ipython3",
   "version": "3.12.2"
  }
 },
 "nbformat": 4,
 "nbformat_minor": 5
}

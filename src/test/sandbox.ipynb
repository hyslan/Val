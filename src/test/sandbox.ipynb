{
 "cells": [
  {
   "cell_type": "code",
   "execution_count": 13,
   "id": "84814ee4cfec25ca",
   "metadata": {},
   "outputs": [
    {
     "name": "stdout",
     "output_type": "stream",
     "text": [
      "Objeto SAPGUI obtido com sucesso\n"
     ]
    }
   ],
   "source": [
    "# -Begin-----------------------------------------------------------------\n",
    "# -Bibliotecas--------------------------------------------------------------\n",
    "\n",
    "import os\n",
    "import win32com.client\n",
    "import pythoncom\n",
    "import platform\n",
    "# -Sub Main--------------------------------------------------------------\n",
    "\n",
    "'''Função para conexão SAP'''\n",
    "pythoncom.CoInitialize()\n",
    "try:\n",
    "    sapguiauto = win32com.client.GetObject('SAPGUI')\n",
    "    print('Objeto SAPGUI obtido com sucesso')\n",
    "    application = sapguiauto.GetScriptingEngine\n",
    "except pythoncom.com_error as e:\n",
    "    print(f'Erro ao obter o objeto SAPGUI: {e}')\n",
    "\n",
    "\n",
    "\n",
    "\n",
    "# members = dir(application)\n",
    "# for i in members:\n",
    "#     print('\\n'+ i)\n",
    "\n",
    "# /M/erpprdci.ti.sabesp.com.br/S/3908/G/PRODUCAO /UPDOWNLOAD_CP=1160\n",
    "# print(application.Children(0).ConnectionString)\n",
    "\n",
    "# print(application.Children.Count)\n",
    "# connection = application.Children(0)\n",
    "# Python Type architecture\n",
    "# bits_architecture = platform.architecture()[0]\n",
    "# print(bits_architecture)\n",
    "# application = sapguiauto.GetScriptingEngine\n",
    "# application.HistoryEnabled = True\n",
    "# print(sapguiauto)\n",
    "# connection = application.Children(1)\n",
    "# session: win32com.client.CDispatch = connection.Children(0)\n"
   ]
  },
  {
   "cell_type": "code",
   "execution_count": 29,
   "id": "78adc072",
   "metadata": {},
   "outputs": [
    {
     "name": "stdout",
     "output_type": "stream",
     "text": [
      "/app/con[0]/ses[0]\n",
      "<class 'str'>\n"
     ]
    }
   ],
   "source": [
    "connection = application.Children(0)\n",
    "session = connection.Children(0)\n",
    "print(session.ID)\n",
    "print(type(session.ID))"
   ]
  },
  {
   "cell_type": "code",
   "execution_count": 25,
   "id": "ef161f00",
   "metadata": {},
   "outputs": [],
   "source": [
    "session.findById(\n",
    "                        \"wnd[0]/usr/tabsTAB_ITENS_PRECO/tabpTABA\").select()"
   ]
  },
  {
   "cell_type": "code",
   "execution_count": 28,
   "id": "6110d159",
   "metadata": {},
   "outputs": [
    {
     "name": "stdout",
     "output_type": "stream",
     "text": [
      "Não há dados para exibição.\n"
     ]
    }
   ],
   "source": [
    "rodape = session.findById(\"wnd[0]/sbar\").Text\n",
    "print(rodape)"
   ]
  },
  {
   "cell_type": "code",
   "execution_count": 47,
   "id": "c55e0fe3",
   "metadata": {},
   "outputs": [],
   "source": [
    "connection_string = (\n",
    "            '/M/erpprdci.ti.sabesp.com.br/S/3908/G/PRODUCAO /UPDOWNLOAD_CP=1160'\n",
    "            '/U/117615'\n",
    "            '/P/MYSAPSSO2=AjExMDAgAA1wb3J0YWw6MTE3NjE1iAATYmFzaWNhdXRoZW50aWNhdGlvbgEABjExNzYxNQIAAzAwMAMAA1BQMQQADDIwMjQwNzI2MTIyNgUABAAAAAgKAAYxMTc2MTX/AQYwggECBgkqhkiG9w0BBwKggfQwgfECAQExCzAJBgUrDgMCGgUAMAsGCSqGSIb3DQEHATGB0TCBzgIBATAiMB0xDDAKBgNVBAMTA1BQMTENMAsGA1UECxMESjJFRQIBADAJBgUrDgMCGgUAoF0wGAYJKoZIhvcNAQkDMQsGCSqGSIb3DQEHATAcBgkqhkiG9w0BCQUxDxcNMjQwNzI2MTIyNjU2WjAjBgkqhkiG9w0BCQQxFgQUIoZ25/lkWUfC4ViS72bwcGcV5xUwCQYHKoZIzjgEAwQwMC4CFQCK92S//Xynd76Xgab0u5KhbzQA0QIVAJJCrkxP/JBQz3MqLknojQ138omD'\n",
    "            '/C/100'\n",
    "            '/N/EP0'\n",
    "        )"
   ]
  },
  {
   "cell_type": "code",
   "execution_count": 49,
   "id": "e9aaa816",
   "metadata": {},
   "outputs": [],
   "source": [
    "# connection = application.Children(0)\n",
    "# user = 117615\n",
    "# pwd = 'MYSAPSSO2=AjExMDAgAA1wb3J0YWw6MTE3NjE1iAATYmFzaWNhdXRoZW50aWNhdGlvbgEABjExNzYxNQIAAzAwMAMAA1BQMQQADDIwMjQwNzI2MTIyNgUABAAAAAgKAAYxMTc2MTX/AQYwggECBgkqhkiG9w0BBwKggfQwgfECAQExCzAJBgUrDgMCGgUAMAsGCSqGSIb3DQEHATGB0TCBzgIBATAiMB0xDDAKBgNVBAMTA1BQMTENMAsGA1UECxMESjJFRQIBADAJBgUrDgMCGgUAoF0wGAYJKoZIhvcNAQkDMQsGCSqGSIb3DQEHATAcBgkqhkiG9w0BCQUxDxcNMjQwNzI2MTIyNjU2WjAjBgkqhkiG9w0BCQQxFgQUIoZ25/lkWUfC4ViS72bwcGcV5xUwCQYHKoZIzjgEAwQwMC4CFQCK92S//Xynd76Xgab0u5KhbzQA0QIVAJJCrkxP/JBQz3MqLknojQ138omD'\n",
    "connection = application.OpenConnectionByConnectionString(connection_string, True)"
   ]
  },
  {
   "cell_type": "code",
   "execution_count": 51,
   "id": "f5a683f8",
   "metadata": {},
   "outputs": [
    {
     "name": "stdout",
     "output_type": "stream",
     "text": [
      "Objeto SAPGUI obtido com sucesso\n",
      "Conexão estabelecida com sucesso\n",
      "Erro ao conectar ao SAP: (-2147417848, 'O objeto chamado foi desconectado de seus clientes.', None, None)\n"
     ]
    }
   ],
   "source": [
    "import win32com.client\n",
    "import pythoncom\n",
    "import time\n",
    "\n",
    "def main():\n",
    "    # Inicializa o COM\n",
    "    pythoncom.CoInitialize()\n",
    "\n",
    "    try:\n",
    "        # Obtém o objeto SAPGUI\n",
    "        sapgui_auto = win32com.client.GetObject('SAPGUI')\n",
    "        application = sapgui_auto.GetScriptingEngine\n",
    "        print('Objeto SAPGUI obtido com sucesso')\n",
    "\n",
    "        # Define a connection string sem o SSO, apenas com o cliente e nome do sistema\n",
    "        connection_string = (\n",
    "            '/M/erpprdci.ti.sabesp.com.br/S/3908/G/PRODUCAO /UPDOWNLOAD_CP=1160'\n",
    "            '/C/100'  # Adiciona o cliente (client)\n",
    "            '/N/EP0'  # Adiciona o nome do sistema (name)\n",
    "        )\n",
    "\n",
    "        # Abre a conexão usando a connection string\n",
    "        connection = application.OpenConnectionByConnectionString(connection_string, True)\n",
    "\n",
    "        # Espera um momento para garantir que a conexão esteja pronta\n",
    "        time.sleep(5)\n",
    "\n",
    "        # Obtém a primeira sessão\n",
    "        session = connection.Children(0)\n",
    "        print('Conexão estabelecida com sucesso')\n",
    "\n",
    "        # Insere o nome do usuário (se necessário)\n",
    "        session.findById('wnd[0]/usr/txtRSYST-BNAME').text = '117615'\n",
    "\n",
    "        # Insere o SSO no campo de senha\n",
    "        session.findById('wnd[0]/usr/pwdRSYST-BCODE').text = 'MYSAPSSO2=AjExMDAgAA1wb3J0YWw6MTE3NjE1iAATYmFzaWNhdXRoZW50aWNhdGlvbgEABjExNzYxNQIAAzAwMAMAA1BQMQQADDIwMjQwNzI2MTIyNgUABAAAAAgKAAYxMTc2MTX/AQYwggECBgkqhkiG9w0BBwKggfQwgfECAQExCzAJBgUrDgMCGgUAMAsGCSqGSIb3DQEHATGB0TCBzgIBATAiMB0xDDAKBgNVBAMTA1BQMTENMAsGA1UECxMESjJFRQIBADAJBgUrDgMCGgUAoF0wGAYJKoZIhvcNAQkDMQsGCSqGSIb3DQEHATAcBgkqhkiG9w0BCQUxDxcNMjQwNzI2MTIyNjU2WjAjBgkqhkiG9w0BCQQxFgQUIoZ25/lkWUfC4ViS72bwcGcV5xUwCQYHKoZIzjgEAwQwMC4CFQCK92S//Xynd76Xgab0u5KhbzQA0QIVAJJCrkxP/JBQz3MqLknojQ138omD'\n",
    "        session.findById('wnd[0]/usr/pwdRSYST-BCODE').setFocus()\n",
    "\n",
    "        # Pressiona o botão de login\n",
    "        session.findById('wnd[0]/tbar[0]/btn[0]').press()\n",
    "\n",
    "        # Espera um momento para garantir que o login esteja concluído\n",
    "        time.sleep(5)\n",
    "\n",
    "        # Verifica se o login foi bem-sucedido\n",
    "        if session.findById('wnd[0]/sbar').Text == '':\n",
    "            print('Login com SSO bem-sucedido')\n",
    "        else:\n",
    "            print(f'Erro durante o login: {session.findById('wnd[0]/sbar').Text}')\n",
    "\n",
    "        # Exemplo de interação com a sessão após o login\n",
    "        session.findById('wnd[0]/tbar[0]/okcd').text = '/nSMEN'  # Navega para a transação SMEN\n",
    "        session.findById('wnd[0]/tbar[0]/okcd').press()         # Pressiona Enter\n",
    "\n",
    "        print('Transação SMEN iniciada com sucesso')\n",
    "\n",
    "    except pythoncom.com_error as e:\n",
    "        print(f'Erro ao conectar ao SAP: {e}')\n",
    "\n",
    "    except Exception as e:\n",
    "        print(f'Erro: {e}')\n",
    "\n",
    "    finally:\n",
    "        # Libera o COM\n",
    "        pythoncom.CoUninitialize()\n",
    "\n",
    "if __name__ == '__main__':\n",
    "    main()\n"
   ]
  },
  {
   "cell_type": "code",
   "execution_count": 1,
   "id": "2d03f4e3",
   "metadata": {},
   "outputs": [],
   "source": [
    "token = \"AjExMDAgAA1wb3J0YWw6MTE3NjE1iAATYmFzaWNhdXRoZW50aWNhdGlvbgEABjExNzYxNQIAAzAwMAMAA1BQMQQADDIwMjQwNzI5MTE1NAUABAAAAAgKAAYxMTc2MTX/AQUwggEBBgkqhkiG9w0BBwKggfMwgfACAQExCzAJBgUrDgMCGgUAMAsGCSqGSIb3DQEHATGB0DCBzQIBATAiMB0xDDAKBgNVBAMTA1BQMTENMAsGA1UECxMESjJFRQIBADAJBgUrDgMCGgUAoF0wGAYJKoZIhvcNAQkDMQsGCSqGSIb3DQEHATAcBgkqhkiG9w0BCQUxDxcNMjQwNzI5MTE1NDIwWjAjBgkqhkiG9w0BCQQxFgQUztWBFCNisENvJ2r+PUMZbZgsCUIwCQYHKoZIzjgEAwQvMC0CFQDB+Ur9oO/z+yER86Z34LQ7zmOtYQIUf4LvHmRWPx0dTeahkqIRDXGXf64=\"\n",
    "sap_access = (\n",
    "'[System]\\n'\n",
    "'Name=EP0\\n'\n",
    "'Client=100\\n'\n",
    "r'GuiParm=/M/erpprdci.ti.sabesp.com.br/S/3908/G/PRODUCAO /UPDOWNLOAD_CP=1160'\n",
    "'\\n'\n",
    "'[User]\\n'\n",
    "'Name=117615\\n'\n",
    "fr'at=\"MYSAPSSO2={token}\"'\n",
    "'\\n'\n",
    "'Language=PT\\n'\n",
    "'[Function]\\n'\n",
    "'Command=SMEN\\n'\n",
    "'Type=Transaction\\n'\n",
    "'[Configuration]\\n'\n",
    "'Workplace=false\\n'\n",
    "'GuiSize=\\n'\n",
    "'[Options]\\n'\n",
    "'Reuse=-1')\n",
    "\n",
    "with open(r'C:\\Users\\irgpapais\\Documents\\SAP\\tx.sap', 'w') as s:\n",
    "    s.write(sap_access)\n"
   ]
  },
  {
   "cell_type": "code",
   "execution_count": 10,
   "id": "4dc404f4",
   "metadata": {},
   "outputs": [
    {
     "name": "stdout",
     "output_type": "stream",
     "text": [
      "2024-07-29\n"
     ]
    }
   ],
   "source": [
    "import datetime as dt\n",
    "\n",
    "data = '29/07/2024'\n",
    "dt_obj = dt.datetime.strptime(data, '%d/%m/%Y').date()\n",
    "print(dt_obj)\n"
   ]
  },
  {
   "cell_type": "code",
   "execution_count": 12,
   "id": "e63c1f4d",
   "metadata": {},
   "outputs": [
    {
     "name": "stdout",
     "output_type": "stream",
     "text": [
      "29/07/2024\n"
     ]
    }
   ],
   "source": [
    "dt = dt.datetime.now().date()\n",
    "print(dt.strftime('%d/%m/%Y'))"
   ]
  },
  {
   "cell_type": "code",
   "execution_count": null,
   "id": "9e8153c3",
   "metadata": {},
   "outputs": [],
   "source": [
    "session.findById('wnd[0]/tbar[0]/okcd').text = '/nSMEN'  # Navega para a transação SMEN\n",
    "session.findById('wnd[0]/tbar[0]/okcd').press() "
   ]
  },
  {
   "cell_type": "code",
   "execution_count": 44,
   "id": "4659c2ec",
   "metadata": {},
   "outputs": [],
   "source": [
    "pythoncom.CoUninitialize()"
   ]
  },
  {
   "cell_type": "code",
   "execution_count": null,
   "id": "dc300dd3",
   "metadata": {},
   "outputs": [],
   "source": [
    "try:\n",
    "    # Cria uma nova instância da SAP GUI\n",
    "    connection = application.Children(0).Children(0).Connections.Add('SAP', 'S/3908', 'PRODUCAO', '1160', '', '', '', '', '', '')\n",
    "    session = connection.Children(0)  # Obtém a primeira sessão\n",
    "    print('Conexão estabelecida com sucesso')\n",
    "    \n",
    "    # Exemplo de interação com a sessão\n",
    "    session.findById('wnd[0]/tbar[0]/okcd').text = '/nSE80'  # Navega para a transação SE80\n",
    "    session.findById('wnd[0]/tbar[0]/okcd').press()         # Pressiona Enter\n",
    "    \n",
    "    print('Transação SE80 iniciada com sucesso')\n",
    "    \n",
    "except Exception as e:\n",
    "    print(f'Erro ao conectar ao SAP ou interagir com a sessão: {e}')\n",
    "finally:\n",
    "    pythoncom.CoUninitialize()"
   ]
  },
  {
   "cell_type": "code",
   "execution_count": null,
   "id": "ac94e0f1b69b8609",
   "metadata": {
    "ExecuteTime": {
     "end_time": "2024-06-28T12:52:10.809085Z",
     "start_time": "2024-06-28T12:52:10.639852Z"
    }
   },
   "outputs": [],
   "source": [
    "import win32com.client\n",
    "# Progid= Sapgui.ScriptingCtrl.1\n",
    "#CLSID= HKEY_CLASSES_ROOT\\WOW6432Node\\CLSID\\{B90F32AD-859E-4EDD-BFAE-C9216849520C}\n",
    "componente = win32com.client.Dispatch('SAP Scripting Control')\n"
   ]
  },
  {
   "cell_type": "code",
   "execution_count": null,
   "id": "62eb2a361f068a79",
   "metadata": {
    "ExecuteTime": {
     "end_time": "2024-06-28T13:08:45.686597Z",
     "start_time": "2024-06-28T13:08:45.678313Z"
    }
   },
   "outputs": [],
   "source": [
    "import pythoncom\n",
    "context = pythoncom.CreateBindCtx(0)\n",
    "running_coms = pythoncom.GetRunningObjectTable()\n",
    "monikers = running_coms.EnumRunning()\n",
    "print(monikers)\n",
    "for moniker in monikers:\n",
    "    print('-'*100)\n",
    "    print(moniker.GetDisplayName(context, moniker))\n",
    "    \n",
    "    print(moniker.Hash())\n",
    "    \n",
    "    print(moniker.IsSystemMoniker())\n"
   ]
  },
  {
   "cell_type": "code",
   "execution_count": null,
   "id": "f0425088abc95f57",
   "metadata": {
    "ExecuteTime": {
     "end_time": "2024-06-28T11:51:46.080453Z",
     "start_time": "2024-06-28T11:51:22.736780Z"
    }
   },
   "outputs": [],
   "source": [
    "import comtypes.client as com\n",
    "\n",
    "sap_gui = com.GetActiveObject('Excel.Application')"
   ]
  },
  {
   "cell_type": "code",
   "execution_count": null,
   "id": "f7ec4bf81129714c",
   "metadata": {
    "ExecuteTime": {
     "end_time": "2024-06-27T20:14:07.918891Z",
     "start_time": "2024-06-27T20:14:07.911672Z"
    }
   },
   "outputs": [],
   "source": [
    "frame = session.findById('wnd[0]')\n",
    "print(type(frame))"
   ]
  },
  {
   "cell_type": "code",
   "execution_count": null,
   "id": "8dd3e7ef53f8482f",
   "metadata": {},
   "outputs": [],
   "source": [
    "ordem = session.findById('wnd[0]/usr/txtGS_HEADER-NUM_ORDEM')\n",
    "ordem.text"
   ]
  },
  {
   "cell_type": "code",
   "execution_count": null,
   "id": "1fda6f090fc236fe",
   "metadata": {},
   "outputs": [],
   "source": [
    "f_os = frame.findById('usr/txtGS_HEADER-NUM_ORDEM')\n",
    "f_os.text"
   ]
  },
  {
   "cell_type": "code",
   "execution_count": null,
   "id": "69dc64a05b3b384d",
   "metadata": {},
   "outputs": [],
   "source": [
    "usr = session.findById('wnd[0]/usr')"
   ]
  },
  {
   "cell_type": "code",
   "execution_count": null,
   "id": "8e23621574659311",
   "metadata": {
    "ExecuteTime": {
     "end_time": "2024-06-24T19:17:54.222313Z",
     "start_time": "2024-06-24T19:17:54.211041Z"
    }
   },
   "outputs": [],
   "source": [
    "tb = usr.findById('tabsTAB_ITENS_PRECO/tabpTABM/ssubSUB_TAB:ZSBMM_VALORACAO_NAPI:9030/cntlCC_MATERIAIS/shellcont/shell')\n",
    "tb"
   ]
  },
  {
   "cell_type": "code",
   "execution_count": null,
   "id": "bb25f810a129dc34",
   "metadata": {
    "ExecuteTime": {
     "end_time": "2024-06-24T19:18:04.764932Z",
     "start_time": "2024-06-24T19:18:04.414630Z"
    }
   },
   "outputs": [],
   "source": [
    "tb.SetCurrentCell(0, 'ETAPA')"
   ]
  },
  {
   "cell_type": "code",
   "execution_count": null,
   "id": "5bc55167bbd95c12",
   "metadata": {
    "ExecuteTime": {
     "end_time": "2024-06-24T19:18:08.182891Z",
     "start_time": "2024-06-24T19:18:08.103901Z"
    }
   },
   "outputs": [],
   "source": [
    "tb.InsertRows(str(1))"
   ]
  }
 ],
 "metadata": {
  "kernelspec": {
   "display_name": "Python 3",
   "language": "python",
   "name": "python3"
  },
  "language_info": {
   "codemirror_mode": {
    "name": "ipython",
    "version": 3
   },
   "file_extension": ".py",
   "mimetype": "text/x-python",
   "name": "python",
   "nbconvert_exporter": "python",
   "pygments_lexer": "ipython3",
   "version": "3.12.2"
  }
 },
 "nbformat": 4,
 "nbformat_minor": 5
}

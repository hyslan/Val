{
 "cells": [
  {
   "metadata": {},
   "cell_type": "code",
   "source": [
    "# -Begin-----------------------------------------------------------------\n",
    "# -Bibliotecas--------------------------------------------------------------\n",
    "import win32com.client\n",
    "import pythoncom\n",
    "# -Sub Main--------------------------------------------------------------\n",
    "\n",
    "\n",
    "def connect_to_sap():\n",
    "    '''Função para conexão SAP'''\n",
    "    try:\n",
    "        #pylint: disable=E1101\n",
    "        pythoncom.CoInitialize()\n",
    "        sapguiauto = win32com.client.GetObject(\"SAPGUI\")\n",
    "        if not isinstance(sapguiauto, win32com.client.CDispatch):\n",
    "            return\n",
    "\n",
    "        application = sapguiauto.GetScriptingEngine\n",
    "    except NameError:\n",
    "        print(NameError)\n",
    "\n",
    "    application = sapguiauto.GetScriptingEngine\n",
    "    if not isinstance(application, win32com.client.CDispatch):\n",
    "        sapguiauto = None\n",
    "        return\n",
    "\n",
    "    application.HistoryEnabled = True\n",
    "\n",
    "    connection = application.Children(0)\n",
    "    if not isinstance(connection, win32com.client.CDispatch):\n",
    "        application = None\n",
    "        sapguiauto = None\n",
    "        return\n",
    "\n",
    "    if connection.DisabledByServer is True:\n",
    "        connection = None\n",
    "        application = None\n",
    "        sapguiauto = None\n",
    "        return\n",
    "\n",
    "    session = connection.Children(0)\n",
    "    if not isinstance(session, win32com.client.CDispatch):\n",
    "        connection = None\n",
    "        application = None\n",
    "        sapguiauto = None\n",
    "        return\n",
    "\n",
    "    if session.Busy is True:\n",
    "        session = None\n",
    "        connection = None\n",
    "        application = None\n",
    "        sapguiauto = None\n",
    "        return\n",
    "\n",
    "    if session.Info.IsLowSpeedConnection is True:\n",
    "        session = None\n",
    "        connection = None\n",
    "        application = None\n",
    "        sapguiauto = None\n",
    "        return\n",
    "\n",
    "    return session, connection\n"
   ],
   "id": "a06149c7401b26",
   "outputs": [],
   "execution_count": null
  },
  {
   "metadata": {},
   "cell_type": "code",
   "source": "session, connection = connect_to_sap()",
   "id": "47230b6015b4fcf5",
   "outputs": [],
   "execution_count": null
  },
  {
   "metadata": {},
   "cell_type": "code",
   "source": "frame = session.findById(\"wnd[0]\")",
   "id": "f7ec4bf81129714c",
   "outputs": [],
   "execution_count": null
  },
  {
   "metadata": {},
   "cell_type": "code",
   "source": [
    "ordem = session.findById(\"wnd[0]/usr/txtGS_HEADER-NUM_ORDEM\")\n",
    "ordem.text"
   ],
   "id": "8dd3e7ef53f8482f",
   "outputs": [],
   "execution_count": null
  },
  {
   "metadata": {},
   "cell_type": "code",
   "source": [
    "f_os = frame.findById(\"usr/txtGS_HEADER-NUM_ORDEM\")\n",
    "f_os.text"
   ],
   "id": "1fda6f090fc236fe",
   "outputs": [],
   "execution_count": null
  },
  {
   "metadata": {},
   "cell_type": "code",
   "source": "usr = session.findById(\"wnd[0]/usr\")",
   "id": "69dc64a05b3b384d",
   "outputs": [],
   "execution_count": null
  },
  {
   "metadata": {
    "ExecuteTime": {
     "end_time": "2024-06-24T19:17:54.222313Z",
     "start_time": "2024-06-24T19:17:54.211041Z"
    }
   },
   "cell_type": "code",
   "source": [
    "tb = usr.findById(\"tabsTAB_ITENS_PRECO/tabpTABM/ssubSUB_TAB:ZSBMM_VALORACAO_NAPI:9030/cntlCC_MATERIAIS/shellcont/shell\")\n",
    "tb"
   ],
   "id": "8e23621574659311",
   "outputs": [
    {
     "data": {
      "text/plain": [
       "<COMObject <unknown>>"
      ]
     },
     "execution_count": 104,
     "metadata": {},
     "output_type": "execute_result"
    }
   ],
   "execution_count": 104
  },
  {
   "metadata": {
    "ExecuteTime": {
     "end_time": "2024-06-24T19:18:04.764932Z",
     "start_time": "2024-06-24T19:18:04.414630Z"
    }
   },
   "cell_type": "code",
   "source": "tb.SetCurrentCell(0, 'ETAPA')",
   "id": "bb25f810a129dc34",
   "outputs": [],
   "execution_count": 105
  },
  {
   "metadata": {
    "ExecuteTime": {
     "end_time": "2024-06-24T19:18:08.182891Z",
     "start_time": "2024-06-24T19:18:08.103901Z"
    }
   },
   "cell_type": "code",
   "source": "tb.InsertRows(str(1))",
   "id": "5bc55167bbd95c12",
   "outputs": [],
   "execution_count": 106
  },
  {
   "metadata": {},
   "cell_type": "code",
   "source": [
    "import itertools\n",
    "lista = []\n",
    "for i, j in itertools.product(range(1, 3), range(1, 3)):   \n",
    "    lista.append((i, j))"
   ],
   "id": "b1be0086da6a3c7b",
   "outputs": [],
   "execution_count": null
  },
  {
   "metadata": {},
   "cell_type": "code",
   "source": "lista",
   "id": "5f8e0a480e27db82",
   "outputs": [],
   "execution_count": null
  },
  {
   "metadata": {},
   "cell_type": "code",
   "source": [
    "import numpy as np\n",
    "\n",
    "# Inicializa um array vazio com 0 linhas e 2 colunas (ajuste a quantidade de colunas conforme necessário)\n",
    "array = np.empty((0, 2), int)\n",
    "\n",
    "# Cria algumas tuplas\n",
    "tupla1 = (1, 2)\n",
    "tupla2 = (3, 4)\n",
    "tupla3 = (5, 6)\n",
    "\n",
    "# Adiciona as tuplas ao array\n",
    "array = np.append(array, [tupla1], axis=0)\n",
    "array = np.append(array, [tupla2], axis=0)\n",
    "array = np.append(array, [tupla3], axis=0)\n",
    "\n",
    "print(array[:, 0])\n"
   ],
   "id": "25c87a692b8279b2",
   "outputs": [],
   "execution_count": null
  },
  {
   "metadata": {},
   "cell_type": "code",
   "source": [
    "# mascara = array[:, 0] == 1\n",
    "# valores_correspondentes = array[mascara, 1]\n",
    "# print(valores_correspondentes[0])\n",
    "test = array[array[:, 0] == 1, 1]\n",
    "test[0]"
   ],
   "id": "f6e11d376406158e",
   "outputs": [],
   "execution_count": null
  },
  {
   "metadata": {},
   "cell_type": "code",
   "source": [
    "import numpy as np\n",
    "sap_hidro = np.empty((0,2), dtype=str)\n",
    "sap_hidro"
   ],
   "id": "5783ad6ab218c776",
   "outputs": [],
   "execution_count": null
  },
  {
   "metadata": {},
   "cell_type": "code",
   "source": [
    "sap_material = \"010\"\n",
    "sap_etapa_material = \"ETAPA\"\n",
    "sap_hidro = np.append(sap_hidro, np.array([[sap_material, sap_etapa_material]]), axis=0)"
   ],
   "id": "7665701768e7e466",
   "outputs": [],
   "execution_count": null
  },
  {
   "metadata": {},
   "cell_type": "code",
   "source": "sap_hidro[:, 0]",
   "id": "b91a2fbd23b1412d",
   "outputs": [],
   "execution_count": null
  },
  {
   "metadata": {
    "ExecuteTime": {
     "end_time": "2024-06-24T19:21:10.258367Z",
     "start_time": "2024-06-24T19:21:10.251328Z"
    }
   },
   "cell_type": "code",
   "source": [
    "hidro = \"A21G005653\"\n",
    "if hidro.startswith(\"A\"):\n",
    "    if hidro[3] == 'G':\n",
    "        print(\"SAGA\")"
   ],
   "id": "44ecc35e870ce2a",
   "outputs": [
    {
     "name": "stdout",
     "output_type": "stream",
     "text": [
      "SAGA\n"
     ]
    }
   ],
   "execution_count": 108
  }
 ],
 "metadata": {
  "kernelspec": {
   "display_name": "Python 3",
   "language": "python",
   "name": "python3"
  },
  "language_info": {
   "codemirror_mode": {
    "name": "ipython",
    "version": 2
   },
   "file_extension": ".py",
   "mimetype": "text/x-python",
   "name": "python",
   "nbconvert_exporter": "python",
   "pygments_lexer": "ipython2",
   "version": "2.7.6"
  }
 },
 "nbformat": 4,
 "nbformat_minor": 5
}

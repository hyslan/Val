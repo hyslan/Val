{
 "cells": [
  {
   "metadata": {
    "ExecuteTime": {
     "end_time": "2024-07-19T18:52:05.749982Z",
     "start_time": "2024-07-19T18:52:05.705652Z"
    }
   },
   "cell_type": "code",
   "source": [
    "import win32com.client\n",
    "import pythoncom\n",
    "\n",
    "pythoncom.CoInitialize()\n",
    "sapguiauto = win32com.client.GetObject(\"SAPGUI\")\n",
    "application = sapguiauto.GetScriptingEngine\n",
    "connection = application.Children(2)\n",
    "session: win32com.client.CDispatch = connection.Children(0)\n",
    "print(session)"
   ],
   "id": "9232e82e73cef304",
   "outputs": [
    {
     "name": "stdout",
     "output_type": "stream",
     "text": [
      "<COMObject <unknown>>\n"
     ]
    }
   ],
   "execution_count": 11
  },
  {
   "metadata": {
    "ExecuteTime": {
     "end_time": "2024-07-18T20:38:35.073123Z",
     "start_time": "2024-07-18T20:38:35.001Z"
    }
   },
   "cell_type": "code",
   "source": [
    "# -Begin-----------------------------------------------------------------\n",
    "# -Bibliotecas--------------------------------------------------------------\n",
    "import win32com.client\n",
    "import pythoncom\n",
    "# -Sub Main--------------------------------------------------------------\n",
    "\n",
    "\n",
    "\n",
    "'''Função para conexão SAP'''\n",
    "try:\n",
    "    #pylint: disable=E1101\n",
    "    pythoncom.CoInitialize()\n",
    "    sapguiauto = win32com.client.GetObject(\"SAPGUI\")\n",
    "    application = sapguiauto.GetScriptingEngine\n",
    "except NameError:\n",
    "    print(NameError)\n",
    "\n",
    "application = sapguiauto.GetScriptingEngine\n",
    "\n",
    "if not isinstance(application, win32com.client.CDispatch):\n",
    "    sapguiauto = None\n",
    "\n",
    "\n",
    "application.HistoryEnabled = True\n",
    "\n",
    "connection = application.Children(0)\n",
    "\n",
    "if not isinstance(connection, win32com.client.CDispatch):\n",
    "    application = None\n",
    "    sapguiauto = None\n",
    " \n",
    "\n",
    "if connection.DisabledByServer is True:\n",
    "    connection = None\n",
    "    application = None\n",
    "    sapguiauto = None\n",
    "\n",
    "\n",
    "session: win32com.client.CDispatch = connection.Children(0)\n",
    "\n",
    "\n"
   ],
   "id": "a06149c7401b26",
   "outputs": [
    {
     "ename": "AttributeError",
     "evalue": "SAPGUI.GetScriptingEngine",
     "output_type": "error",
     "traceback": [
      "\u001B[1;31m---------------------------------------------------------------------------\u001B[0m",
      "\u001B[1;31mAttributeError\u001B[0m                            Traceback (most recent call last)",
      "Cell \u001B[1;32mIn[7], line 18\u001B[0m\n\u001B[0;32m     15\u001B[0m \u001B[38;5;28;01mexcept\u001B[39;00m \u001B[38;5;167;01mNameError\u001B[39;00m:\n\u001B[0;32m     16\u001B[0m     \u001B[38;5;28mprint\u001B[39m(\u001B[38;5;167;01mNameError\u001B[39;00m)\n\u001B[1;32m---> 18\u001B[0m application \u001B[38;5;241m=\u001B[39m \u001B[43msapguiauto\u001B[49m\u001B[38;5;241;43m.\u001B[39;49m\u001B[43mGetScriptingEngine\u001B[49m\n\u001B[0;32m     20\u001B[0m \u001B[38;5;28;01mif\u001B[39;00m \u001B[38;5;129;01mnot\u001B[39;00m \u001B[38;5;28misinstance\u001B[39m(application, win32com\u001B[38;5;241m.\u001B[39mclient\u001B[38;5;241m.\u001B[39mCDispatch):\n\u001B[0;32m     21\u001B[0m     sapguiauto \u001B[38;5;241m=\u001B[39m \u001B[38;5;28;01mNone\u001B[39;00m\n",
      "File \u001B[1;32m~\\Documents\\Meus Projetos\\Val\\.venv\\Lib\\site-packages\\win32com\\client\\dynamic.py:638\u001B[0m, in \u001B[0;36mCDispatch.__getattr__\u001B[1;34m(self, attr)\u001B[0m\n\u001B[0;32m    635\u001B[0m     \u001B[38;5;28;01mreturn\u001B[39;00m \u001B[38;5;28mself\u001B[39m\u001B[38;5;241m.\u001B[39m_get_good_object_(ret)\n\u001B[0;32m    637\u001B[0m \u001B[38;5;66;03m# no where else to look.\u001B[39;00m\n\u001B[1;32m--> 638\u001B[0m \u001B[38;5;28;01mraise\u001B[39;00m \u001B[38;5;167;01mAttributeError\u001B[39;00m(\u001B[38;5;124m\"\u001B[39m\u001B[38;5;132;01m%s\u001B[39;00m\u001B[38;5;124m.\u001B[39m\u001B[38;5;132;01m%s\u001B[39;00m\u001B[38;5;124m\"\u001B[39m \u001B[38;5;241m%\u001B[39m (\u001B[38;5;28mself\u001B[39m\u001B[38;5;241m.\u001B[39m_username_, attr))\n",
      "\u001B[1;31mAttributeError\u001B[0m: SAPGUI.GetScriptingEngine"
     ]
    }
   ],
   "execution_count": 7
  },
  {
   "metadata": {
    "ExecuteTime": {
     "end_time": "2024-07-18T20:28:20.966545Z",
     "start_time": "2024-07-18T20:28:20.945535Z"
    }
   },
   "cell_type": "code",
   "source": "print(dir(session))",
   "id": "46fb6bdd3c5c8f06",
   "outputs": [
    {
     "name": "stdout",
     "output_type": "stream",
     "text": [
      "['AsStdNumberFormat', 'ClearErrorList', 'CreateSession', 'EnableJawsEvents', 'EndTransaction', 'FindById', 'FindByPosition', 'GetIconResourceName', 'GetVKeyDescription', 'LockSessionUI', 'RunScriptControl', 'SendCommand', 'SendCommandAsync', 'SendMenu', 'StartTransaction', 'UnlockSessionUI', '_ApplyTypes_', '_FlagAsMethod', '_LazyAddAttr_', '_NewEnum', '_Release_', '_UpdateWithITypeInfo_', '__AttrToID__', '__LazyMap__', '__bool__', '__call__', '__class__', '__delattr__', '__dict__', '__dir__', '__doc__', '__eq__', '__format__', '__ge__', '__getattr__', '__getattribute__', '__getitem__', '__getstate__', '__gt__', '__hash__', '__init__', '__init_subclass__', '__int__', '__le__', '__len__', '__lt__', '__module__', '__ne__', '__new__', '__reduce__', '__reduce_ex__', '__repr__', '__setattr__', '__setitem__', '__sizeof__', '__str__', '__subclasshook__', '__weakref__', '_builtMethods_', '_dir_ole_', '_enum_', '_find_dispatch_type_', '_get_good_object_', '_get_good_single_object_', '_lazydata_', '_make_method_', '_mapCachedItems_', '_oleobj_', '_olerepr_', '_print_details_', '_proc_', '_unicode_to_string_', '_username_', '_wrap_dispatch_']\n"
     ]
    }
   ],
   "execution_count": 2
  },
  {
   "metadata": {
    "ExecuteTime": {
     "end_time": "2024-07-18T20:32:55.082743Z",
     "start_time": "2024-07-18T20:32:54.693276Z"
    }
   },
   "cell_type": "code",
   "source": [
    "import win32com.client\n",
    "import pythoncom\n",
    "\n",
    "def get_sap_session():\n",
    "    try:\n",
    "        pythoncom.CoInitialize()\n",
    "        sapguiauto = win32com.client.GetObject(\"SAPGUI\")\n",
    "        application = sapguiauto.GetScriptingEngine\n",
    "        application.HistoryEnabled = True\n",
    "        connection = application.Children(0)\n",
    "        session = connection.Children(0)\n",
    "        return session\n",
    "    except Exception as e:\n",
    "        print(f\"Erro ao conectar ao SAP: {e}\")\n",
    "        return None\n",
    "\n",
    "def access_multiple_objects(session, base_id, max_count):\n",
    "    objects = []\n",
    "    for i in range(max_count):\n",
    "        try:\n",
    "            obj_id = f\"{base_id}{i}\"\n",
    "            obj = session.FindById(obj_id)\n",
    "            objects.append(obj)\n",
    "        except Exception as e:\n",
    "            print(f\"Erro ao acessar o objeto {obj_id}: {e}\")\n",
    "            break\n",
    "    return objects\n",
    "\n",
    "def main():\n",
    "    session = get_sap_session()\n",
    "    if session:\n",
    "        base_id = \"wnd[0]/usr/txt[0,\"  # Base do ID do objeto\n",
    "        max_count = 10  # Número máximo de objetos esperados\n",
    "        objects = access_multiple_objects(session, base_id, max_count)\n",
    "        \n",
    "        for index, obj in enumerate(objects):\n",
    "            try:\n",
    "                print(f\"Objeto {index}: {obj.Text}\")\n",
    "                obj.Text = f\"Novo valor {index}\"\n",
    "            except Exception as e:\n",
    "                print(f\"Erro ao manipular o objeto {index}: {e}\")\n",
    "\n",
    "if __name__ == \"__main__\":\n",
    "    main()\n"
   ],
   "id": "644f733679df1b69",
   "outputs": [
    {
     "name": "stdout",
     "output_type": "stream",
     "text": [
      "Erro ao acessar o objeto wnd[0]/usr/txt[0,0: (-2147352567, 'Exceção.', (619, 'SAP Frontend Server', 'The control could not be found by id.', 'c:\\\\program files (x86)\\\\sap\\\\frontend\\\\sapgui\\\\sapfront.HLP', 393215, 0), None)\n"
     ]
    }
   ],
   "execution_count": 3
  },
  {
   "metadata": {
    "ExecuteTime": {
     "end_time": "2024-07-18T20:36:30.989766Z",
     "start_time": "2024-07-18T20:36:30.979071Z"
    }
   },
   "cell_type": "code",
   "source": "print(sapguiauto)",
   "id": "736b4487895d7af8",
   "outputs": [
    {
     "name": "stdout",
     "output_type": "stream",
     "text": [
      "<COMObject SAPGUI>\n"
     ]
    }
   ],
   "execution_count": 4
  },
  {
   "metadata": {
    "ExecuteTime": {
     "end_time": "2024-07-18T20:41:50.439837Z",
     "start_time": "2024-07-18T20:41:50.056274Z"
    }
   },
   "cell_type": "code",
   "source": [
    "import win32com.client\n",
    "import pythoncom\n",
    "\n",
    "def get_sap_gui():\n",
    "    # Cria a instância do SAP GUI\n",
    "    sap_gui = win32com.client.GetObject(\"SAPGUI\")\n",
    "    \n",
    "    # Acesse o objeto Application\n",
    "    application = sap_gui.GetScriptingEngine\n",
    "\n",
    "    # Acesse a conexão e o sistema SAP\n",
    "    connection = application.Children(0)  # pode variar dependendo do seu ambiente\n",
    "    session = connection.Children(0)\n",
    "\n",
    "    return \n",
    "\n",
    "def main():\n",
    "    pythoncom.CoInitialize()  # Inicializa o COM\n",
    "    session = get_sap_gui()\n",
    "    print(\"SAP GUI session obtained successfully.\")\n",
    "    \n",
    "    # Exemplo de interação com a sessão SAP GUI\n",
    "    print(f\"Session ID: {session.Id}\")\n",
    "    \n",
    "    # Continue a interagir com a sessão conforme necessário\n",
    "    # Por exemplo, enviar comandos, ler valores, etc.\n",
    "\n",
    "        \n",
    "\n",
    "\n",
    "if __name__ == \"__main__\":\n",
    "    main()\n"
   ],
   "id": "4faef0bb96c7f700",
   "outputs": [
    {
     "name": "stdout",
     "output_type": "stream",
     "text": [
      "SAP GUI session obtained successfully.\n"
     ]
    },
    {
     "ename": "AttributeError",
     "evalue": "'NoneType' object has no attribute 'Id'",
     "output_type": "error",
     "traceback": [
      "\u001B[1;31m---------------------------------------------------------------------------\u001B[0m",
      "\u001B[1;31mAttributeError\u001B[0m                            Traceback (most recent call last)",
      "Cell \u001B[1;32mIn[5], line 32\u001B[0m\n\u001B[0;32m     25\u001B[0m     \u001B[38;5;66;03m# Continue a interagir com a sessão conforme necessário\u001B[39;00m\n\u001B[0;32m     26\u001B[0m     \u001B[38;5;66;03m# Por exemplo, enviar comandos, ler valores, etc.\u001B[39;00m\n\u001B[0;32m     31\u001B[0m \u001B[38;5;28;01mif\u001B[39;00m \u001B[38;5;18m__name__\u001B[39m \u001B[38;5;241m==\u001B[39m \u001B[38;5;124m\"\u001B[39m\u001B[38;5;124m__main__\u001B[39m\u001B[38;5;124m\"\u001B[39m:\n\u001B[1;32m---> 32\u001B[0m     \u001B[43mmain\u001B[49m\u001B[43m(\u001B[49m\u001B[43m)\u001B[49m\n",
      "Cell \u001B[1;32mIn[5], line 23\u001B[0m, in \u001B[0;36mmain\u001B[1;34m()\u001B[0m\n\u001B[0;32m     20\u001B[0m \u001B[38;5;28mprint\u001B[39m(\u001B[38;5;124m\"\u001B[39m\u001B[38;5;124mSAP GUI session obtained successfully.\u001B[39m\u001B[38;5;124m\"\u001B[39m)\n\u001B[0;32m     22\u001B[0m \u001B[38;5;66;03m# Exemplo de interação com a sessão SAP GUI\u001B[39;00m\n\u001B[1;32m---> 23\u001B[0m \u001B[38;5;28mprint\u001B[39m(\u001B[38;5;124mf\u001B[39m\u001B[38;5;124m\"\u001B[39m\u001B[38;5;124mSession ID: \u001B[39m\u001B[38;5;132;01m{\u001B[39;00m\u001B[43msession\u001B[49m\u001B[38;5;241;43m.\u001B[39;49m\u001B[43mId\u001B[49m\u001B[38;5;132;01m}\u001B[39;00m\u001B[38;5;124m\"\u001B[39m)\n",
      "\u001B[1;31mAttributeError\u001B[0m: 'NoneType' object has no attribute 'Id'"
     ]
    }
   ],
   "execution_count": 5
  },
  {
   "metadata": {
    "ExecuteTime": {
     "end_time": "2024-07-18T20:43:57.365713Z",
     "start_time": "2024-07-18T20:43:57.359656Z"
    }
   },
   "cell_type": "code",
   "source": [
    "import win32com.client\n",
    "import pythoncom\n",
    "\n",
    "def list_sap_gui_objects():\n",
    "    try:\n",
    "        sap_gui = win32com.client.GetObject(None, \"SAPGUI\")\n",
    "        if sap_gui:\n",
    "            application = sap_gui.GetScriptingEngine\n",
    "            connections = application.Children()\n",
    "            \n",
    "            for i, connection in enumerate(connections):\n",
    "                print(f\"Connection {i}:\")\n",
    "                print(f\"  ID: {connection.Id}\")\n",
    "                sessions = connection.Children()\n",
    "                \n",
    "                for j, session in enumerate(sessions):\n",
    "                    print(f\"  Session {j}:\")\n",
    "                    print(f\"    ID: {session.Id}\")\n",
    "                    # List additional properties or methods as needed\n",
    "\n",
    "    except Exception as e:\n",
    "        print(f\"Error: {e}\")\n",
    "\n",
    "def main():\n",
    "    pythoncom.CoInitialize()  # Inicializa o COM\n",
    "    try:\n",
    "        list_sap_gui_objects()\n",
    "    finally:\n",
    "        pythoncom.CoUninitialize()  # Libera o COM\n",
    "\n",
    "if __name__ == \"__main__\":\n",
    "    main()\n"
   ],
   "id": "99961c9b2f691a56",
   "outputs": [
    {
     "name": "stdout",
     "output_type": "stream",
     "text": [
      "Error: (-2147221005, 'Cadeia de caracteres de classe inválida', None, None)\n"
     ]
    }
   ],
   "execution_count": 8
  },
  {
   "metadata": {
    "ExecuteTime": {
     "end_time": "2024-07-18T20:43:45.901665Z",
     "start_time": "2024-07-18T20:43:45.864030Z"
    }
   },
   "cell_type": "code",
   "source": [
    "import win32com.client\n",
    "import pythoncom\n",
    "\n",
    "def inspect_com_object(obj):\n",
    "    # Imprime os métodos disponíveis\n",
    "    print(\"Métodos disponíveis:\")\n",
    "    for method in dir(obj):\n",
    "        if callable(getattr(obj, method)):\n",
    "            print(f\"  {method}\")\n",
    "\n",
    "    # Imprime as propriedades disponíveis\n",
    "    print(\"Propriedades disponíveis:\")\n",
    "    for prop in dir(obj):\n",
    "        if not callable(getattr(obj, prop)):\n",
    "            print(f\"  {prop}\")\n",
    "\n",
    "def main():\n",
    "    pythoncom.CoInitialize()  # Inicializa o COM\n",
    "    try:\n",
    "        sap_gui = win32com.client.GetObject(None, \"SAPGUI\")\n",
    "        if sap_gui:\n",
    "            print(\"SAP GUI Object encontrado:\")\n",
    "            inspect_com_object(sap_gui)\n",
    "    finally:\n",
    "        pythoncom.CoUninitialize()  # Libera o COM\n",
    "\n",
    "if __name__ == \"__main__\":\n",
    "    main()\n"
   ],
   "id": "6664a0410ba02c61",
   "outputs": [
    {
     "ename": "com_error",
     "evalue": "(-2147221005, 'Cadeia de caracteres de classe inválida', None, None)",
     "output_type": "error",
     "traceback": [
      "\u001B[1;31m---------------------------------------------------------------------------\u001B[0m",
      "\u001B[1;31mcom_error\u001B[0m                                 Traceback (most recent call last)",
      "Cell \u001B[1;32mIn[7], line 28\u001B[0m\n\u001B[0;32m     25\u001B[0m         pythoncom\u001B[38;5;241m.\u001B[39mCoUninitialize()  \u001B[38;5;66;03m# Libera o COM\u001B[39;00m\n\u001B[0;32m     27\u001B[0m \u001B[38;5;28;01mif\u001B[39;00m \u001B[38;5;18m__name__\u001B[39m \u001B[38;5;241m==\u001B[39m \u001B[38;5;124m\"\u001B[39m\u001B[38;5;124m__main__\u001B[39m\u001B[38;5;124m\"\u001B[39m:\n\u001B[1;32m---> 28\u001B[0m     \u001B[43mmain\u001B[49m\u001B[43m(\u001B[49m\u001B[43m)\u001B[49m\n",
      "Cell \u001B[1;32mIn[7], line 20\u001B[0m, in \u001B[0;36mmain\u001B[1;34m()\u001B[0m\n\u001B[0;32m     18\u001B[0m pythoncom\u001B[38;5;241m.\u001B[39mCoInitialize()  \u001B[38;5;66;03m# Inicializa o COM\u001B[39;00m\n\u001B[0;32m     19\u001B[0m \u001B[38;5;28;01mtry\u001B[39;00m:\n\u001B[1;32m---> 20\u001B[0m     sap_gui \u001B[38;5;241m=\u001B[39m \u001B[43mwin32com\u001B[49m\u001B[38;5;241;43m.\u001B[39;49m\u001B[43mclient\u001B[49m\u001B[38;5;241;43m.\u001B[39;49m\u001B[43mGetObject\u001B[49m\u001B[43m(\u001B[49m\u001B[38;5;28;43;01mNone\u001B[39;49;00m\u001B[43m,\u001B[49m\u001B[43m \u001B[49m\u001B[38;5;124;43m\"\u001B[39;49m\u001B[38;5;124;43mSAPGUI\u001B[39;49m\u001B[38;5;124;43m\"\u001B[39;49m\u001B[43m)\u001B[49m\n\u001B[0;32m     21\u001B[0m     \u001B[38;5;28;01mif\u001B[39;00m sap_gui:\n\u001B[0;32m     22\u001B[0m         \u001B[38;5;28mprint\u001B[39m(\u001B[38;5;124m\"\u001B[39m\u001B[38;5;124mSAP GUI Object encontrado:\u001B[39m\u001B[38;5;124m\"\u001B[39m)\n",
      "File \u001B[1;32m~\\Documents\\Meus Projetos\\Val\\.venv\\Lib\\site-packages\\win32com\\client\\__init__.py:84\u001B[0m, in \u001B[0;36mGetObject\u001B[1;34m(Pathname, Class, clsctx)\u001B[0m\n\u001B[0;32m     79\u001B[0m     \u001B[38;5;28;01mraise\u001B[39;00m \u001B[38;5;167;01mValueError\u001B[39;00m(\n\u001B[0;32m     80\u001B[0m         \u001B[38;5;124m\"\u001B[39m\u001B[38;5;124mYou must specify a value for Pathname or Class, but not both.\u001B[39m\u001B[38;5;124m\"\u001B[39m\n\u001B[0;32m     81\u001B[0m     )\n\u001B[0;32m     83\u001B[0m \u001B[38;5;28;01mif\u001B[39;00m Class \u001B[38;5;129;01mis\u001B[39;00m \u001B[38;5;129;01mnot\u001B[39;00m \u001B[38;5;28;01mNone\u001B[39;00m:\n\u001B[1;32m---> 84\u001B[0m     \u001B[38;5;28;01mreturn\u001B[39;00m \u001B[43mGetActiveObject\u001B[49m\u001B[43m(\u001B[49m\u001B[43mClass\u001B[49m\u001B[43m,\u001B[49m\u001B[43m \u001B[49m\u001B[43mclsctx\u001B[49m\u001B[43m)\u001B[49m\n\u001B[0;32m     85\u001B[0m \u001B[38;5;28;01melse\u001B[39;00m:\n\u001B[0;32m     86\u001B[0m     \u001B[38;5;28;01mreturn\u001B[39;00m Moniker(Pathname, clsctx)\n",
      "File \u001B[1;32m~\\Documents\\Meus Projetos\\Val\\.venv\\Lib\\site-packages\\win32com\\client\\__init__.py:93\u001B[0m, in \u001B[0;36mGetActiveObject\u001B[1;34m(Class, clsctx)\u001B[0m\n\u001B[0;32m     89\u001B[0m \u001B[38;5;28;01mdef\u001B[39;00m \u001B[38;5;21mGetActiveObject\u001B[39m(Class, clsctx\u001B[38;5;241m=\u001B[39mpythoncom\u001B[38;5;241m.\u001B[39mCLSCTX_ALL):\n\u001B[0;32m     90\u001B[0m \u001B[38;5;250m    \u001B[39m\u001B[38;5;124;03m\"\"\"\u001B[39;00m\n\u001B[0;32m     91\u001B[0m \u001B[38;5;124;03m    Python friendly version of GetObject's ProgID/CLSID functionality.\u001B[39;00m\n\u001B[0;32m     92\u001B[0m \u001B[38;5;124;03m    \"\"\"\u001B[39;00m\n\u001B[1;32m---> 93\u001B[0m     resultCLSID \u001B[38;5;241m=\u001B[39m \u001B[43mpywintypes\u001B[49m\u001B[38;5;241;43m.\u001B[39;49m\u001B[43mIID\u001B[49m\u001B[43m(\u001B[49m\u001B[43mClass\u001B[49m\u001B[43m)\u001B[49m\n\u001B[0;32m     94\u001B[0m     dispatch \u001B[38;5;241m=\u001B[39m pythoncom\u001B[38;5;241m.\u001B[39mGetActiveObject(resultCLSID)\n\u001B[0;32m     95\u001B[0m     dispatch \u001B[38;5;241m=\u001B[39m dispatch\u001B[38;5;241m.\u001B[39mQueryInterface(pythoncom\u001B[38;5;241m.\u001B[39mIID_IDispatch)\n",
      "\u001B[1;31mcom_error\u001B[0m: (-2147221005, 'Cadeia de caracteres de classe inválida', None, None)"
     ]
    }
   ],
   "execution_count": 7
  },
  {
   "metadata": {
    "ExecuteTime": {
     "end_time": "2024-06-28T12:52:10.809085Z",
     "start_time": "2024-06-28T12:52:10.639852Z"
    }
   },
   "cell_type": "code",
   "source": [
    "import win32com.client\n",
    "# Progid= Sapgui.ScriptingCtrl.1\n",
    "#CLSID= HKEY_CLASSES_ROOT\\WOW6432Node\\CLSID\\{B90F32AD-859E-4EDD-BFAE-C9216849520C}\n",
    "componente = win32com.client.Dispatch(\"SAP Scripting Control\")\n"
   ],
   "id": "ac94e0f1b69b8609",
   "outputs": [
    {
     "ename": "com_error",
     "evalue": "(-2147221005, 'Cadeia de caracteres de classe inválida', None, None)",
     "output_type": "error",
     "traceback": [
      "\u001B[1;31m---------------------------------------------------------------------------\u001B[0m",
      "\u001B[1;31mcom_error\u001B[0m                                 Traceback (most recent call last)",
      "File \u001B[1;32m~\\Documents\\Meus Projetos\\Val\\.venv\\Lib\\site-packages\\win32com\\client\\dynamic.py:84\u001B[0m, in \u001B[0;36m_GetGoodDispatch\u001B[1;34m(IDispatch, clsctx)\u001B[0m\n\u001B[0;32m     83\u001B[0m \u001B[38;5;28;01mtry\u001B[39;00m:\n\u001B[1;32m---> 84\u001B[0m     IDispatch \u001B[38;5;241m=\u001B[39m \u001B[43mpythoncom\u001B[49m\u001B[38;5;241;43m.\u001B[39;49m\u001B[43mconnect\u001B[49m\u001B[43m(\u001B[49m\u001B[43mIDispatch\u001B[49m\u001B[43m)\u001B[49m\n\u001B[0;32m     85\u001B[0m \u001B[38;5;28;01mexcept\u001B[39;00m pythoncom\u001B[38;5;241m.\u001B[39mole_error:\n",
      "\u001B[1;31mcom_error\u001B[0m: (-2147221005, 'Cadeia de caracteres de classe inválida', None, None)",
      "\nDuring handling of the above exception, another exception occurred:\n",
      "\u001B[1;31mcom_error\u001B[0m                                 Traceback (most recent call last)",
      "Cell \u001B[1;32mIn[2], line 4\u001B[0m\n\u001B[0;32m      1\u001B[0m \u001B[38;5;28;01mimport\u001B[39;00m \u001B[38;5;21;01mwin32com\u001B[39;00m\u001B[38;5;21;01m.\u001B[39;00m\u001B[38;5;21;01mclient\u001B[39;00m\n\u001B[0;32m      2\u001B[0m \u001B[38;5;66;03m# Progid= Sapgui.ScriptingCtrl.1\u001B[39;00m\n\u001B[0;32m      3\u001B[0m \u001B[38;5;66;03m#CLSID= HKEY_CLASSES_ROOT\\WOW6432Node\\CLSID\\{B90F32AD-859E-4EDD-BFAE-C9216849520C}\u001B[39;00m\n\u001B[1;32m----> 4\u001B[0m componente \u001B[38;5;241m=\u001B[39m \u001B[43mwin32com\u001B[49m\u001B[38;5;241;43m.\u001B[39;49m\u001B[43mclient\u001B[49m\u001B[38;5;241;43m.\u001B[39;49m\u001B[43mDispatch\u001B[49m\u001B[43m(\u001B[49m\u001B[38;5;124;43m\"\u001B[39;49m\u001B[38;5;124;43mSAP Scripting Control\u001B[39;49m\u001B[38;5;124;43m\"\u001B[39;49m\u001B[43m)\u001B[49m\n",
      "File \u001B[1;32m~\\Documents\\Meus Projetos\\Val\\.venv\\Lib\\site-packages\\win32com\\client\\__init__.py:118\u001B[0m, in \u001B[0;36mDispatch\u001B[1;34m(dispatch, userName, resultCLSID, typeinfo, UnicodeToString, clsctx)\u001B[0m\n\u001B[0;32m    116\u001B[0m \u001B[38;5;250m\u001B[39m\u001B[38;5;124;03m\"\"\"Creates a Dispatch based COM object.\"\"\"\u001B[39;00m\n\u001B[0;32m    117\u001B[0m \u001B[38;5;28;01massert\u001B[39;00m UnicodeToString \u001B[38;5;129;01mis\u001B[39;00m \u001B[38;5;28;01mNone\u001B[39;00m, \u001B[38;5;124m\"\u001B[39m\u001B[38;5;124mthis is deprecated and will go away\u001B[39m\u001B[38;5;124m\"\u001B[39m\n\u001B[1;32m--> 118\u001B[0m dispatch, userName \u001B[38;5;241m=\u001B[39m \u001B[43mdynamic\u001B[49m\u001B[38;5;241;43m.\u001B[39;49m\u001B[43m_GetGoodDispatchAndUserName\u001B[49m\u001B[43m(\u001B[49m\u001B[43mdispatch\u001B[49m\u001B[43m,\u001B[49m\u001B[43m \u001B[49m\u001B[43muserName\u001B[49m\u001B[43m,\u001B[49m\u001B[43m \u001B[49m\u001B[43mclsctx\u001B[49m\u001B[43m)\u001B[49m\n\u001B[0;32m    119\u001B[0m \u001B[38;5;28;01mreturn\u001B[39;00m __WrapDispatch(dispatch, userName, resultCLSID, typeinfo, clsctx\u001B[38;5;241m=\u001B[39mclsctx)\n",
      "File \u001B[1;32m~\\Documents\\Meus Projetos\\Val\\.venv\\Lib\\site-packages\\win32com\\client\\dynamic.py:104\u001B[0m, in \u001B[0;36m_GetGoodDispatchAndUserName\u001B[1;34m(IDispatch, userName, clsctx)\u001B[0m\n\u001B[0;32m    101\u001B[0m     \u001B[38;5;66;03m## ??? else userName remains None ???\u001B[39;00m\n\u001B[0;32m    102\u001B[0m \u001B[38;5;28;01melse\u001B[39;00m:\n\u001B[0;32m    103\u001B[0m     userName \u001B[38;5;241m=\u001B[39m \u001B[38;5;28mstr\u001B[39m(userName)\n\u001B[1;32m--> 104\u001B[0m \u001B[38;5;28;01mreturn\u001B[39;00m (\u001B[43m_GetGoodDispatch\u001B[49m\u001B[43m(\u001B[49m\u001B[43mIDispatch\u001B[49m\u001B[43m,\u001B[49m\u001B[43m \u001B[49m\u001B[43mclsctx\u001B[49m\u001B[43m)\u001B[49m, userName)\n",
      "File \u001B[1;32m~\\Documents\\Meus Projetos\\Val\\.venv\\Lib\\site-packages\\win32com\\client\\dynamic.py:86\u001B[0m, in \u001B[0;36m_GetGoodDispatch\u001B[1;34m(IDispatch, clsctx)\u001B[0m\n\u001B[0;32m     84\u001B[0m         IDispatch \u001B[38;5;241m=\u001B[39m pythoncom\u001B[38;5;241m.\u001B[39mconnect(IDispatch)\n\u001B[0;32m     85\u001B[0m     \u001B[38;5;28;01mexcept\u001B[39;00m pythoncom\u001B[38;5;241m.\u001B[39mole_error:\n\u001B[1;32m---> 86\u001B[0m         IDispatch \u001B[38;5;241m=\u001B[39m \u001B[43mpythoncom\u001B[49m\u001B[38;5;241;43m.\u001B[39;49m\u001B[43mCoCreateInstance\u001B[49m\u001B[43m(\u001B[49m\n\u001B[0;32m     87\u001B[0m \u001B[43m            \u001B[49m\u001B[43mIDispatch\u001B[49m\u001B[43m,\u001B[49m\u001B[43m \u001B[49m\u001B[38;5;28;43;01mNone\u001B[39;49;00m\u001B[43m,\u001B[49m\u001B[43m \u001B[49m\u001B[43mclsctx\u001B[49m\u001B[43m,\u001B[49m\u001B[43m \u001B[49m\u001B[43mpythoncom\u001B[49m\u001B[38;5;241;43m.\u001B[39;49m\u001B[43mIID_IDispatch\u001B[49m\n\u001B[0;32m     88\u001B[0m \u001B[43m        \u001B[49m\u001B[43m)\u001B[49m\n\u001B[0;32m     89\u001B[0m \u001B[38;5;28;01melse\u001B[39;00m:\n\u001B[0;32m     90\u001B[0m     \u001B[38;5;66;03m# may already be a wrapped class.\u001B[39;00m\n\u001B[0;32m     91\u001B[0m     IDispatch \u001B[38;5;241m=\u001B[39m \u001B[38;5;28mgetattr\u001B[39m(IDispatch, \u001B[38;5;124m\"\u001B[39m\u001B[38;5;124m_oleobj_\u001B[39m\u001B[38;5;124m\"\u001B[39m, IDispatch)\n",
      "\u001B[1;31mcom_error\u001B[0m: (-2147221005, 'Cadeia de caracteres de classe inválida', None, None)"
     ]
    }
   ],
   "execution_count": 2
  },
  {
   "metadata": {
    "ExecuteTime": {
     "end_time": "2024-06-28T13:08:45.686597Z",
     "start_time": "2024-06-28T13:08:45.678313Z"
    }
   },
   "cell_type": "code",
   "source": [
    "import pythoncom\n",
    "context = pythoncom.CreateBindCtx(0)\n",
    "running_coms = pythoncom.GetRunningObjectTable()\n",
    "monikers = running_coms.EnumRunning()\n",
    "print(monikers)\n",
    "for moniker in monikers:\n",
    "    print('-'*100)\n",
    "    print(moniker.GetDisplayName(context, moniker))\n",
    "    \n",
    "    print(moniker.Hash())\n",
    "    \n",
    "    print(moniker.IsSystemMoniker())\n"
   ],
   "id": "62eb2a361f068a79",
   "outputs": [
    {
     "name": "stdout",
     "output_type": "stream",
     "text": [
      "<PyIEnumMoniker at 0x00000227127A0EE0 with obj at 0x000002270DB94940>\n"
     ]
    }
   ],
   "execution_count": 6
  },
  {
   "metadata": {
    "ExecuteTime": {
     "end_time": "2024-06-28T11:51:46.080453Z",
     "start_time": "2024-06-28T11:51:22.736780Z"
    }
   },
   "cell_type": "code",
   "source": [
    "import comtypes.client as com\n",
    "\n",
    "sap_gui = com.GetActiveObject(\"Excel.Application\")"
   ],
   "id": "f0425088abc95f57",
   "outputs": [],
   "execution_count": 24
  },
  {
   "metadata": {
    "ExecuteTime": {
     "end_time": "2024-06-27T20:14:07.918891Z",
     "start_time": "2024-06-27T20:14:07.911672Z"
    }
   },
   "cell_type": "code",
   "source": [
    "frame = session.findById(\"wnd[0]\")\n",
    "print(type(frame))"
   ],
   "id": "f7ec4bf81129714c",
   "outputs": [
    {
     "name": "stdout",
     "output_type": "stream",
     "text": [
      "<class 'win32com.client.CDispatch'>\n"
     ]
    }
   ],
   "execution_count": 13
  },
  {
   "metadata": {},
   "cell_type": "code",
   "source": [
    "ordem = session.findById(\"wnd[0]/usr/txtGS_HEADER-NUM_ORDEM\")\n",
    "ordem.text"
   ],
   "id": "8dd3e7ef53f8482f",
   "outputs": [],
   "execution_count": null
  },
  {
   "metadata": {},
   "cell_type": "code",
   "source": [
    "f_os = frame.findById(\"usr/txtGS_HEADER-NUM_ORDEM\")\n",
    "f_os.text"
   ],
   "id": "1fda6f090fc236fe",
   "outputs": [],
   "execution_count": null
  },
  {
   "metadata": {},
   "cell_type": "code",
   "source": "usr = session.findById(\"wnd[0]/usr\")",
   "id": "69dc64a05b3b384d",
   "outputs": [],
   "execution_count": null
  },
  {
   "metadata": {
    "ExecuteTime": {
     "end_time": "2024-06-24T19:17:54.222313Z",
     "start_time": "2024-06-24T19:17:54.211041Z"
    }
   },
   "cell_type": "code",
   "source": [
    "tb = usr.findById(\"tabsTAB_ITENS_PRECO/tabpTABM/ssubSUB_TAB:ZSBMM_VALORACAO_NAPI:9030/cntlCC_MATERIAIS/shellcont/shell\")\n",
    "tb"
   ],
   "id": "8e23621574659311",
   "outputs": [
    {
     "data": {
      "text/plain": [
       "<COMObject <unknown>>"
      ]
     },
     "execution_count": 104,
     "metadata": {},
     "output_type": "execute_result"
    }
   ],
   "execution_count": 104
  },
  {
   "metadata": {
    "ExecuteTime": {
     "end_time": "2024-06-24T19:18:04.764932Z",
     "start_time": "2024-06-24T19:18:04.414630Z"
    }
   },
   "cell_type": "code",
   "source": "tb.SetCurrentCell(0, 'ETAPA')",
   "id": "bb25f810a129dc34",
   "outputs": [],
   "execution_count": 105
  },
  {
   "metadata": {
    "ExecuteTime": {
     "end_time": "2024-06-24T19:18:08.182891Z",
     "start_time": "2024-06-24T19:18:08.103901Z"
    }
   },
   "cell_type": "code",
   "source": "tb.InsertRows(str(1))",
   "id": "5bc55167bbd95c12",
   "outputs": [],
   "execution_count": 106
  },
  {
   "metadata": {},
   "cell_type": "code",
   "source": [
    "import itertools\n",
    "lista = []\n",
    "for i, j in itertools.product(range(1, 3), range(1, 3)):   \n",
    "    lista.append((i, j))"
   ],
   "id": "b1be0086da6a3c7b",
   "outputs": [],
   "execution_count": null
  },
  {
   "metadata": {},
   "cell_type": "code",
   "source": "lista",
   "id": "5f8e0a480e27db82",
   "outputs": [],
   "execution_count": null
  },
  {
   "metadata": {},
   "cell_type": "code",
   "source": [
    "import numpy as np\n",
    "\n",
    "# Inicializa um array vazio com 0 linhas e 2 colunas (ajuste a quantidade de colunas conforme necessário)\n",
    "array = np.empty((0, 2), int)\n",
    "\n",
    "# Cria algumas tuplas\n",
    "tupla1 = (1, 2)\n",
    "tupla2 = (3, 4)\n",
    "tupla3 = (5, 6)\n",
    "\n",
    "# Adiciona as tuplas ao array\n",
    "array = np.append(array, [tupla1], axis=0)\n",
    "array = np.append(array, [tupla2], axis=0)\n",
    "array = np.append(array, [tupla3], axis=0)\n",
    "\n",
    "print(array[:, 0])\n"
   ],
   "id": "25c87a692b8279b2",
   "outputs": [],
   "execution_count": null
  },
  {
   "metadata": {},
   "cell_type": "code",
   "source": [
    "# mascara = array[:, 0] == 1\n",
    "# valores_correspondentes = array[mascara, 1]\n",
    "# print(valores_correspondentes[0])\n",
    "test = array[array[:, 0] == 1, 1]\n",
    "test[0]"
   ],
   "id": "f6e11d376406158e",
   "outputs": [],
   "execution_count": null
  },
  {
   "metadata": {},
   "cell_type": "code",
   "source": [
    "import numpy as np\n",
    "sap_hidro = np.empty((0,2), dtype=str)\n",
    "sap_hidro"
   ],
   "id": "5783ad6ab218c776",
   "outputs": [],
   "execution_count": null
  },
  {
   "metadata": {},
   "cell_type": "code",
   "source": [
    "sap_material = \"010\"\n",
    "sap_etapa_material = \"ETAPA\"\n",
    "sap_hidro = np.append(sap_hidro, np.array([[sap_material, sap_etapa_material]]), axis=0)"
   ],
   "id": "7665701768e7e466",
   "outputs": [],
   "execution_count": null
  },
  {
   "metadata": {},
   "cell_type": "code",
   "source": "sap_hidro[:, 0]",
   "id": "b91a2fbd23b1412d",
   "outputs": [],
   "execution_count": null
  },
  {
   "metadata": {
    "ExecuteTime": {
     "end_time": "2024-06-24T19:21:10.258367Z",
     "start_time": "2024-06-24T19:21:10.251328Z"
    }
   },
   "cell_type": "code",
   "source": [
    "hidro = \"A21G005653\"\n",
    "if hidro.startswith(\"A\"):\n",
    "    if hidro[3] == 'G':\n",
    "        print(\"SAGA\")"
   ],
   "id": "44ecc35e870ce2a",
   "outputs": [
    {
     "name": "stdout",
     "output_type": "stream",
     "text": [
      "SAGA\n"
     ]
    }
   ],
   "execution_count": 108
  },
  {
   "metadata": {
    "ExecuteTime": {
     "end_time": "2024-07-01T19:35:17.088358Z",
     "start_time": "2024-07-01T19:35:17.070883Z"
    }
   },
   "cell_type": "code",
   "source": [
    "lista = [{\"material\": \"10\", \"etapa\": \"1000\"},\n",
    "         {\"material\": \"20\", \"etapa\": \"2000\"}]\n",
    "\n",
    "if \"0\" in [i[\"material\"] for i in lista]:\n",
    "    print(\"Achou material\")\n",
    "    if \"1000\" in [i[\"etapa\"] for i in lista]:\n",
    "        print(\"Achou etapa\")"
   ],
   "id": "a9eb948cc2b17ec2",
   "outputs": [],
   "execution_count": 15
  },
  {
   "metadata": {
    "ExecuteTime": {
     "end_time": "2024-07-15T18:00:45.094029Z",
     "start_time": "2024-07-15T18:00:45.081581Z"
    }
   },
   "cell_type": "code",
   "source": [
    "import datetime as dt\n",
    "today = dt.date.today()\n",
    "# month before\n",
    "month_before = today.replace(day=1) - dt.timedelta(days=1)\n",
    "start = month_before.replace(day=1)\n",
    "print(type(start), type(month_before))"
   ],
   "id": "3d90366eae6dcd8a",
   "outputs": [
    {
     "name": "stdout",
     "output_type": "stream",
     "text": [
      "<class 'datetime.date'> <class 'datetime.date'>\n"
     ]
    }
   ],
   "execution_count": 5
  },
  {
   "metadata": {},
   "cell_type": "code",
   "outputs": [],
   "execution_count": null,
   "source": "",
   "id": "60fa1c6437836ad1"
  }
 ],
 "metadata": {
  "kernelspec": {
   "display_name": "Python 3",
   "language": "python",
   "name": "python3"
  },
  "language_info": {
   "codemirror_mode": {
    "name": "ipython",
    "version": 2
   },
   "file_extension": ".py",
   "mimetype": "text/x-python",
   "name": "python",
   "nbconvert_exporter": "python",
   "pygments_lexer": "ipython2",
   "version": "2.7.6"
  }
 },
 "nbformat": 4,
 "nbformat_minor": 5
}

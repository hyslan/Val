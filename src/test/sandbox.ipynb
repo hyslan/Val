{
 "cells": [
  {
   "metadata": {
    "ExecuteTime": {
     "end_time": "2024-06-21T13:51:40.717115Z",
     "start_time": "2024-06-21T13:51:40.706803Z"
    }
   },
   "cell_type": "code",
   "source": [
    "# -Begin-----------------------------------------------------------------\n",
    "# -Bibliotecas--------------------------------------------------------------\n",
    "import win32com.client\n",
    "import pythoncom\n",
    "# -Sub Main--------------------------------------------------------------\n",
    "\n",
    "\n",
    "def connect_to_sap():\n",
    "    '''Função para conexão SAP'''\n",
    "    try:\n",
    "        #pylint: disable=E1101\n",
    "        pythoncom.CoInitialize()\n",
    "        sapguiauto = win32com.client.GetObject(\"SAPGUI\")\n",
    "        if not isinstance(sapguiauto, win32com.client.CDispatch):\n",
    "            return\n",
    "\n",
    "        application = sapguiauto.GetScriptingEngine\n",
    "    except NameError:\n",
    "        print(NameError)\n",
    "\n",
    "    application = sapguiauto.GetScriptingEngine\n",
    "    if not isinstance(application, win32com.client.CDispatch):\n",
    "        sapguiauto = None\n",
    "        return\n",
    "\n",
    "    application.HistoryEnabled = True\n",
    "\n",
    "    connection = application.Children(0)\n",
    "    if not isinstance(connection, win32com.client.CDispatch):\n",
    "        application = None\n",
    "        sapguiauto = None\n",
    "        return\n",
    "\n",
    "    if connection.DisabledByServer is True:\n",
    "        connection = None\n",
    "        application = None\n",
    "        sapguiauto = None\n",
    "        return\n",
    "\n",
    "    session = connection.Children(0)\n",
    "    if not isinstance(session, win32com.client.CDispatch):\n",
    "        connection = None\n",
    "        application = None\n",
    "        sapguiauto = None\n",
    "        return\n",
    "\n",
    "    if session.Busy is True:\n",
    "        session = None\n",
    "        connection = None\n",
    "        application = None\n",
    "        sapguiauto = None\n",
    "        return\n",
    "\n",
    "    if session.Info.IsLowSpeedConnection is True:\n",
    "        session = None\n",
    "        connection = None\n",
    "        application = None\n",
    "        sapguiauto = None\n",
    "        return\n",
    "\n",
    "    return session, connection\n"
   ],
   "id": "a06149c7401b26",
   "outputs": [],
   "execution_count": 9
  },
  {
   "metadata": {
    "ExecuteTime": {
     "end_time": "2024-06-21T13:51:49.848199Z",
     "start_time": "2024-06-21T13:51:49.709924Z"
    }
   },
   "cell_type": "code",
   "source": "session, connection = connect_to_sap()",
   "id": "47230b6015b4fcf5",
   "outputs": [],
   "execution_count": 10
  },
  {
   "metadata": {
    "ExecuteTime": {
     "end_time": "2024-06-21T13:13:34.683620Z",
     "start_time": "2024-06-21T13:13:34.671057Z"
    }
   },
   "cell_type": "code",
   "source": "frame = session.findById(\"wnd[0]\")",
   "id": "f7ec4bf81129714c",
   "outputs": [],
   "execution_count": 3
  },
  {
   "metadata": {
    "ExecuteTime": {
     "end_time": "2024-06-21T13:14:45.920490Z",
     "start_time": "2024-06-21T13:14:45.902973Z"
    }
   },
   "cell_type": "code",
   "source": [
    "ordem = session.findById(\"wnd[0]/usr/txtGS_HEADER-NUM_ORDEM\")\n",
    "ordem.text"
   ],
   "id": "8dd3e7ef53f8482f",
   "outputs": [
    {
     "data": {
      "text/plain": [
       "'2415847927'"
      ]
     },
     "execution_count": 4,
     "metadata": {},
     "output_type": "execute_result"
    }
   ],
   "execution_count": 4
  },
  {
   "metadata": {
    "ExecuteTime": {
     "end_time": "2024-06-21T13:15:28.950434Z",
     "start_time": "2024-06-21T13:15:28.938834Z"
    }
   },
   "cell_type": "code",
   "source": [
    "f_os = frame.findById(\"usr/txtGS_HEADER-NUM_ORDEM\")\n",
    "f_os.text"
   ],
   "id": "1fda6f090fc236fe",
   "outputs": [
    {
     "data": {
      "text/plain": [
       "'2415847927'"
      ]
     },
     "execution_count": 7,
     "metadata": {},
     "output_type": "execute_result"
    }
   ],
   "execution_count": 7
  },
  {
   "metadata": {
    "ExecuteTime": {
     "end_time": "2024-06-21T13:52:42.158044Z",
     "start_time": "2024-06-21T13:52:42.147051Z"
    }
   },
   "cell_type": "code",
   "source": "usr = session.findById(\"wnd[0]/usr\")",
   "id": "69dc64a05b3b384d",
   "outputs": [],
   "execution_count": 12
  },
  {
   "metadata": {
    "ExecuteTime": {
     "end_time": "2024-06-21T13:56:22.930679Z",
     "start_time": "2024-06-21T13:56:22.917327Z"
    }
   },
   "cell_type": "code",
   "source": [
    "ordem = usr.findById(\"txtGS_HEADER-NUM_ORDEM\")\n",
    "ordem"
   ],
   "id": "8e23621574659311",
   "outputs": [
    {
     "data": {
      "text/plain": [
       "'2415847927'"
      ]
     },
     "execution_count": 18,
     "metadata": {},
     "output_type": "execute_result"
    }
   ],
   "execution_count": 18
  },
  {
   "metadata": {
    "ExecuteTime": {
     "end_time": "2024-06-21T14:00:45.378628Z",
     "start_time": "2024-06-21T14:00:45.352015Z"
    }
   },
   "cell_type": "code",
   "source": "session.AbapScriptingEvent += session.AbapScriptingEvent",
   "id": "bb25f810a129dc34",
   "outputs": [
    {
     "ename": "AttributeError",
     "evalue": "<unknown>.AbapScriptingEvent",
     "output_type": "error",
     "traceback": [
      "\u001B[1;31m---------------------------------------------------------------------------\u001B[0m",
      "\u001B[1;31mAttributeError\u001B[0m                            Traceback (most recent call last)",
      "Cell \u001B[1;32mIn[36], line 1\u001B[0m\n\u001B[1;32m----> 1\u001B[0m \u001B[43msession\u001B[49m\u001B[38;5;241;43m.\u001B[39;49m\u001B[43mAbapScriptingEvent\u001B[49m \u001B[38;5;241m+\u001B[39m\u001B[38;5;241m=\u001B[39m session\u001B[38;5;241m.\u001B[39mAbapScriptingEvent\n",
      "File \u001B[1;32m~\\Documents\\Meus Projetos\\Val\\.venv\\Lib\\site-packages\\win32com\\client\\dynamic.py:638\u001B[0m, in \u001B[0;36mCDispatch.__getattr__\u001B[1;34m(self, attr)\u001B[0m\n\u001B[0;32m    635\u001B[0m     \u001B[38;5;28;01mreturn\u001B[39;00m \u001B[38;5;28mself\u001B[39m\u001B[38;5;241m.\u001B[39m_get_good_object_(ret)\n\u001B[0;32m    637\u001B[0m \u001B[38;5;66;03m# no where else to look.\u001B[39;00m\n\u001B[1;32m--> 638\u001B[0m \u001B[38;5;28;01mraise\u001B[39;00m \u001B[38;5;167;01mAttributeError\u001B[39;00m(\u001B[38;5;124m\"\u001B[39m\u001B[38;5;132;01m%s\u001B[39;00m\u001B[38;5;124m.\u001B[39m\u001B[38;5;132;01m%s\u001B[39;00m\u001B[38;5;124m\"\u001B[39m \u001B[38;5;241m%\u001B[39m (\u001B[38;5;28mself\u001B[39m\u001B[38;5;241m.\u001B[39m_username_, attr))\n",
      "\u001B[1;31mAttributeError\u001B[0m: <unknown>.AbapScriptingEvent"
     ]
    }
   ],
   "execution_count": 36
  },
  {
   "metadata": {
    "ExecuteTime": {
     "end_time": "2024-06-21T16:00:22.275151Z",
     "start_time": "2024-06-21T16:00:22.267108Z"
    }
   },
   "cell_type": "code",
   "source": [
    "import itertools\n",
    "lista = []\n",
    "for i, j in itertools.product(range(1, 3), range(1, 3)):   \n",
    "    lista.append((i, j))"
   ],
   "id": "b1be0086da6a3c7b",
   "outputs": [],
   "execution_count": 55
  },
  {
   "metadata": {
    "ExecuteTime": {
     "end_time": "2024-06-21T16:00:24.921991Z",
     "start_time": "2024-06-21T16:00:24.915777Z"
    }
   },
   "cell_type": "code",
   "source": "lista",
   "id": "5f8e0a480e27db82",
   "outputs": [
    {
     "data": {
      "text/plain": [
       "[(1, 1), (1, 2), (2, 1), (2, 2)]"
      ]
     },
     "execution_count": 56,
     "metadata": {},
     "output_type": "execute_result"
    }
   ],
   "execution_count": 56
  },
  {
   "metadata": {
    "ExecuteTime": {
     "end_time": "2024-06-21T19:09:22.876717Z",
     "start_time": "2024-06-21T19:09:22.871607Z"
    }
   },
   "cell_type": "code",
   "source": [
    "import numpy as np\n",
    "\n",
    "# Inicializa um array vazio com 0 linhas e 2 colunas (ajuste a quantidade de colunas conforme necessário)\n",
    "array = np.empty((0, 2), int)\n",
    "\n",
    "# Cria algumas tuplas\n",
    "tupla1 = (1, 2)\n",
    "tupla2 = (3, 4)\n",
    "tupla3 = (5, 6)\n",
    "\n",
    "# Adiciona as tuplas ao array\n",
    "array = np.append(array, [tupla1], axis=0)\n",
    "array = np.append(array, [tupla2], axis=0)\n",
    "array = np.append(array, [tupla3], axis=0)\n",
    "\n",
    "print(array[:, 0])\n"
   ],
   "id": "25c87a692b8279b2",
   "outputs": [
    {
     "name": "stdout",
     "output_type": "stream",
     "text": [
      "1\n"
     ]
    }
   ],
   "execution_count": 137
  },
  {
   "metadata": {
    "ExecuteTime": {
     "end_time": "2024-06-21T19:17:11.546346Z",
     "start_time": "2024-06-21T19:17:11.540080Z"
    }
   },
   "cell_type": "code",
   "source": [
    "# mascara = array[:, 0] == 1\n",
    "# valores_correspondentes = array[mascara, 1]\n",
    "# print(valores_correspondentes[0])\n",
    "test = array[array[:, 0] == 1, 1]\n",
    "test[0]"
   ],
   "id": "f6e11d376406158e",
   "outputs": [
    {
     "data": {
      "text/plain": [
       "2"
      ]
     },
     "execution_count": 147,
     "metadata": {},
     "output_type": "execute_result"
    }
   ],
   "execution_count": 147
  }
 ],
 "metadata": {
  "kernelspec": {
   "display_name": "Python 3",
   "language": "python",
   "name": "python3"
  },
  "language_info": {
   "codemirror_mode": {
    "name": "ipython",
    "version": 2
   },
   "file_extension": ".py",
   "mimetype": "text/x-python",
   "name": "python",
   "nbconvert_exporter": "python",
   "pygments_lexer": "ipython2",
   "version": "2.7.6"
  }
 },
 "nbformat": 4,
 "nbformat_minor": 5
}
